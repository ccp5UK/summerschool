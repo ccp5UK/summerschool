{
 "cells": [
  {
   "cell_type": "markdown",
   "id": "51e7b4d5-d6bb-4c22-8cd8-17d6d896d0e9",
   "metadata": {},
   "source": [
    "# DPD Tutorial Exercise 1: Simple DPD systems\n",
    "## Ex2. Parameterising DPD\n",
    "\n",
    "Most DPD simulations involve multiple components and how they interact with each other, form structures at equilibrium, react to flow fluids etc. If we want to use DPD to model a given system, we need to understand the effect of conservative interactions between different particle (bead) species and how we can put this to use. In order to do this, we now need to start using DL_MESO_DPD.\n",
    "\n",
    "We have supplied a ZIP file with the source code for both of DL_MESO's codes. Unpack this ZIP file using the command:"
   ]
  },
  {
   "cell_type": "code",
   "execution_count": null,
   "id": "5fe4c4e6-e882-498f-81d2-0b2194b27bf7",
   "metadata": {},
   "outputs": [],
   "source": [
    "!unzip -o -q dl_meso_2.7.zip"
   ]
  },
  {
   "cell_type": "markdown",
   "id": "4e6f8301-3bc0-4089-9f85-cc56463e150a",
   "metadata": {},
   "source": [
    "This produces a [set of directories](https://dl-sdg.github.io/RESOURCES/TUTORIALS/dlm_2.html), including the DL_MESO_DPD source code in ``dl_meso/DPD`` and a working directory of its own in ``dl_meso/WORK``. To compile the serial (one processor core) version of DL_MESO_DPD, use the following commands to navigate into the ``dl_meso/WORK`` directory and invoke the makefile:"
   ]
  },
  {
   "cell_type": "code",
   "execution_count": null,
   "id": "4cc8bddb-1d06-42a4-bf9c-a4f5ecd06cc5",
   "metadata": {},
   "outputs": [],
   "source": [
    "%%bash\n",
    "cd dl_meso/WORK\n",
    "make -f Makefile-serial clean\n",
    "make -f Makefile-serial"
   ]
  },
  {
   "cell_type": "markdown",
   "id": "a7b99acf-989a-487b-9e07-248d1ed3bfe7",
   "metadata": {},
   "source": [
    "This provides an executable file for DL_MESO_DPD (``dpd.exe``) that we can use to run a simulation, provided we have the required input files.\n",
    "\n",
    "For our first DL_MESO_DPD simulation, we have a [CONTROL](DPD1Ex2/CONTROL) and a [FIELD](DPD1Ex2/FIELD) file available in a working directory (``DPD1Ex2``). To launch the calculation, either use the following commands (ideally in a terminal window):"
   ]
  },
  {
   "cell_type": "code",
   "execution_count": null,
   "id": "465f1f76-a5c6-4acf-a98c-1978516b8b4e",
   "metadata": {},
   "outputs": [],
   "source": [
    "%%bash\n",
    "cd DPD1Ex2\n",
    "../dl_meso/WORK/dpd.exe"
   ]
  },
  {
   "cell_type": "markdown",
   "id": "b714f8e8-4485-40de-b950-f442a4e20a63",
   "metadata": {},
   "source": [
    "or the following script to launch DL_MESO_DPD in the specified folder and keep track of its progress."
   ]
  },
  {
   "cell_type": "code",
   "execution_count": null,
   "id": "adb1f786-e2b0-47c9-9b4c-4b9e81445d30",
   "metadata": {},
   "outputs": [],
   "source": [
    "import launchdlmeso as dlm\n",
    "dlm.run_DPD('DPD1Ex2', 'dl_meso/WORK/dpd.exe', 1, True, '')"
   ]
  },
  {
   "cell_type": "markdown",
   "id": "6f0d17dc-0a9f-4044-b365-0f6060076d52",
   "metadata": {},
   "source": [
    "DL_MESO_DPD will take a couple of minutes to run and produce four output files:\n",
    "\n",
    "* ``CORREL`` - a statistics file with values of propeties at set intervals during the calculation after equilibration\n",
    "* ``HISTORY`` - the simulation trajectory with simulation snapshots (configurations), written in binary format for speed and intended to be processed using utilities or scripts\n",
    "* ``export`` - simulation restart file with the current simulation state, used to resume the simulation at a later date or to start a new simulation from the given state\n",
    "* ``REVIVE`` - simulation restart file with statistical accumulators and random number generator states, used to resume the simulation at a later date\n",
    "\n",
    "**N.B.** DL_MESO_DPD normally prints information about the calculation (e.g. timing data, instantaneous system properties) while it runs to an ``OUTPUT`` file. To get the script with the progress bar to work properly we have added the ``l_scr`` option to the ``CONTROL`` file to redirect that output to the screen or standard output, which is then directed (or 'piped') to a file called ``OUTPUT`` by the script. \n",
    "\n",
    "To plot the data in the ``CORREL`` file, either use plotting software or a spreadsheet program, or the following plotting script."
   ]
  },
  {
   "cell_type": "code",
   "execution_count": null,
   "id": "65aca83a-a061-46d6-99c0-bb7f0cb9ebd2",
   "metadata": {},
   "outputs": [],
   "source": [
    "from plotcorrel import *\n",
    "plotCorrel('DPD1Ex2/CORREL', 'time', 'pe-total', 'Time', 'Potential energy per particle', 'Potential energy per particle vs. time')\n",
    "plotCorrel('DPD1Ex2/CORREL', 'time', 'temperature', 'Time', 'Temperature', 'Temperature vs. time')\n",
    "plotCorrel('DPD1Ex2/CORREL', 'time', 'pressure', 'Time', 'Pressure', 'Pressure vs. time')"
   ]
  },
  {
   "cell_type": "markdown",
   "id": "ff421b98-7e20-4ec1-b26f-70061ff0d993",
   "metadata": {},
   "source": [
    "To visualise the simulation, we can use the ``HISTORY`` file to generate a file (``traject.vtf``) that can be read into VMD. We can do this by using the following script:"
   ]
  },
  {
   "cell_type": "code",
   "execution_count": null,
   "id": "c7f3fe00-7215-448d-8399-31022107cae8",
   "metadata": {},
   "outputs": [],
   "source": [
    "%run history_dlm_to_vtf.py --in DPD1Ex2/HISTORY --out DPD1Ex2/traject.vtf"
   ]
  },
  {
   "cell_type": "markdown",
   "id": "688c4b4a-989f-44b0-bd25-248971da1d9f",
   "metadata": {},
   "source": [
    "Once you have managed to run DL_MESO_DPD, you might want to consider the following:\n",
    "\n",
    "* If you look in the [FIELD](http://localhost:8888/doc/tree/DPD1Ex2/FIELD) file, you will see that $A_{ij}^{AB}$, the conservative force parameter between beads of species A and B, is signficantly higher than those for each species ($A_{ij}^{AA}$ and $A_{ij}^{BB}$). Given DL_MESO_DPD initially mixes up beads of both species in the box (look at the first trajectory frame), what happens to them during the simulation?\n",
    "* Try gradually reducing $A_{ij}^{AB}$ and re-run the calculation. What happens when this value gets close to $A_{ij}^{AA}$? When it dips below $A_{ij}^{AA}$?\n",
    "\n",
    "Going on ... we want to see how the value of $A_{ij}^{AB}$ affects separation of two particle species. To do this, we can carry out a series of simulations that use different values of the conservative force parameter, measure the volume fractions of one species (e.g. $\\phi_A$) in separated regions (away from interfaces where the species mix), calculate the Flory-Huggins parameter: \n",
    "\n",
    "$$\\chi^{AB} = \\frac{\\ln [(1-\\phi_A)/\\phi_A]}{1 - 2\\phi_A}$$ \n",
    "\n",
    "and plot a graph of $A_{ij}^{AB}$ vs. $\\chi^{AB}$. \n",
    "\n",
    "Rather than doing this manually, we have come up with a Python script that will help automate this process. Before we go ahead and launch it, you might want to re-compile DL_MESO_DPD to use OpenMP multithreading to speed up each DPD calculation: you can do this by using the following commands with the required Makefile. "
   ]
  },
  {
   "cell_type": "code",
   "execution_count": null,
   "id": "37137966-4c32-4353-b024-a04b795ef1ce",
   "metadata": {},
   "outputs": [],
   "source": [
    "%%bash\n",
    "cd dl_meso/WORK\n",
    "make -f Makefile-OMP clean\n",
    "make -f Makefile-OMP"
   ]
  },
  {
   "cell_type": "markdown",
   "id": "ef39f82e-eab9-4100-93b4-a4822affb460",
   "metadata": {},
   "source": [
    "Use the following commands to launch the workflow script. It will launch a series of DL_MESO_DPD calculations in an output folder using different values of $A_{ij}^{AB}$ and work out corresponding values of $\\chi^{AB}$ from time-averaged profiles of concentrations (volume fractions). The script will run 11 calculations, each of which will take a few minutes, so the whole process might take a little while to complete. (Hence why we suggested re-compiling DL_MESO_DPD with OpenMP!)\n",
    "\n",
    "Note that the number of OpenMP threads you want to use for each calculation is set using the environment variable ``OMP_NUM_THREADS`` using the command just before the script is launched. We do not recommend using *all* available threads (16 in this working environment) as there are overheads involved in setting them up and using them, but 4 threads per calculation should work well enough.\n",
    "\n",
    "(Optionally: If you want to see how we have set up the calculations, take a look at the ``CONFIG`` file generated by the script in VMD. You will need to open it as a 'DL_POLY CONFIG' file: note that both DL_POLY and DL_MESO_DPD use the same file format.)"
   ]
  },
  {
   "cell_type": "code",
   "execution_count": null,
   "id": "02a7545b-9855-41dd-a0d5-41b46543348e",
   "metadata": {},
   "outputs": [],
   "source": [
    "import os\n",
    "os.environ[\"OMP_NUM_THREADS\"] = \"4\"\n",
    "%run flory_huggins.py --dlmeso dl_meso/WORK/dpd.exe"
   ]
  },
  {
   "cell_type": "markdown",
   "id": "c3dbfcbf-950d-40a6-84b0-4119e9eafd19",
   "metadata": {},
   "source": [
    "The ``flory_huggins.py`` script will produce a text file with each simulation's concentration profile ($\\phi_A (x)$ vs. $x$), the values of $A_{ij}^{AA}$ and $A_{ij}^{AB}$ used to generate it and the value of $\\chi^{AB}$ with an error estimate. To plot each of the concentration profiles, invoke the following plotting script (changing the last number to select each profile)."
   ]
  },
  {
   "cell_type": "code",
   "execution_count": null,
   "id": "8125af10-07bc-4378-a387-0bf7243ac4da",
   "metadata": {},
   "outputs": [],
   "source": [
    "from plotfloryhuggins import *\n",
    "plotConcentration('out/floryhuggins-rho-3.000.dat', 5)"
   ]
  },
  {
   "cell_type": "markdown",
   "id": "6b7828fe-3652-41fa-84cf-f8bcc0ce2659",
   "metadata": {},
   "source": [
    "If you just cannot wait for these results, we have provided a sample output file based on using the ``flory_huggins.py`` script: [floryhuggins-rho-3.000.dat](floryhuggins-rho-3.000.dat). You can modify the location of the output file in the above and below calls to the plotting script (i.e. remove ``out/``) to use this file instead of the one you end up generating.\n",
    "\n",
    "Quick question based on these results:\n",
    "\n",
    "* Can you see clearly separated regions for all of the simulations? If not, which simulations did not manage this and why might this be?\n",
    "\n",
    "Another script is available to plot the obtained values of $\\chi^{AB}$ against $\\Delta A = A_{ij}^{AB} - A_{ij}^{AA}$ and find a best-fit line that goes through the origin (i.e. $\\chi^{AB} = 0$ when $A_{ij}^{AB} = A_{ij}^{AA}$), adding the equations for this line as a title."
   ]
  },
  {
   "cell_type": "code",
   "execution_count": null,
   "id": "ae81aab4-61cf-4528-811b-6ac80f3f1b4c",
   "metadata": {},
   "outputs": [],
   "source": [
    "from plotfloryhuggins import *\n",
    "plotChi('out/floryhuggins-rho-3.000.dat')"
   ]
  },
  {
   "cell_type": "markdown",
   "id": "3e3026a9-fe95-4de1-8fcf-27c81cc2d0c6",
   "metadata": {},
   "source": [
    "Questions and tasks based on this result:\n",
    "\n",
    "* Groot and Warren in their 1997 Journal of Chemical Physics suggested that $\\chi^{AB} \\propto \\Delta A$ ... do we get this?\n",
    "* We can add more concentration profiles and data points to the above plot by re-running our Python script, only this time try changing the value of $A_{ij}^{AA}$ and the ranges of $A_{ij}^{AB}$ values, e.g. for $A_{ij}^{AA} = 50.0$, $A_{ij}^{AB}$ between 58 and 68, and spacing out the $A_{ij}^{AB}$ values by 2.0 rather than 1.0:"
   ]
  },
  {
   "cell_type": "code",
   "execution_count": null,
   "id": "93514890-0617-4e21-a6c8-58dab5afb88d",
   "metadata": {},
   "outputs": [],
   "source": [
    "import os\n",
    "os.environ[\"OMP_NUM_THREADS\"] = \"4\"\n",
    "%run flory_huggins.py --dlmeso dl_meso/WORK/dpd.exe --Aii 50.0 --Aijmin 58.0 --Aijmax 68.0 --dA 2.0"
   ]
  },
  {
   "cell_type": "markdown",
   "id": "350a8f96-f4a0-40e2-9a9c-1b672b8d2896",
   "metadata": {},
   "source": [
    "* Does the value of $A_{ij}^{AA}$ have an effect on the relationship between $\\chi^{AB}$ and $\\Delta A$?\n",
    "* (Optional) We have so far assumed an overall particle density $\\rho = 3$, but we can try a different density using another command-line option for the ``flory_huggins.py`` script, ``--rho``, e.g. the below command for $\\rho = 5$. (Note the different range of $A_{ij}^{AB}$ values and that this will write the results to a different file, so you will need to change the filenames in the above ``plotConcentration`` and ``plotChi`` function calls.)"
   ]
  },
  {
   "cell_type": "code",
   "execution_count": null,
   "id": "e9f18f63-c835-41de-a41f-a20bfa935c90",
   "metadata": {},
   "outputs": [],
   "source": [
    "import os\n",
    "os.environ[\"OMP_NUM_THREADS\"] = \"4\"\n",
    "%run flory_huggins.py --dlmeso dl_meso/WORK/dpd.exe --rho 5.0 --Aijmin 29.0 --Aijmax 36.0"
   ]
  },
  {
   "cell_type": "markdown",
   "id": "153af529-3867-4f39-8e6e-32836bbbb177",
   "metadata": {},
   "source": [
    "* What happens to the relationship between $\\chi^{AB}$ and $\\Delta A$ when $\\rho$ is changed?\n",
    "* Finally ... how can we make use of these relationships to set up a DPD simulation?"
   ]
  }
 ],
 "metadata": {
  "kernelspec": {
   "display_name": "Python 3 (ipykernel)",
   "language": "python",
   "name": "python3"
  },
  "language_info": {
   "codemirror_mode": {
    "name": "ipython",
    "version": 3
   },
   "file_extension": ".py",
   "mimetype": "text/x-python",
   "name": "python",
   "nbconvert_exporter": "python",
   "pygments_lexer": "ipython3",
   "version": "3.10.12"
  }
 },
 "nbformat": 4,
 "nbformat_minor": 5
}
