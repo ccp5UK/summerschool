{
 "cells": [
  {
   "cell_type": "markdown",
   "id": "3213a793",
   "metadata": {},
   "source": [
    "[![Open In Colab](https://colab.research.google.com/assets/colab-badge.svg)](https://colab.research.google.com/github/ccp5UK/summerschool/blob/main/Day_6/Chaos/Day6SAMD.ipynb)\n",
    "\n",
    "$$\n",
    "\\def\\CC{\\bf C}\n",
    "\\def\\QQ{\\bf Q}\n",
    "\\def\\RR{\\bf R}\n",
    "\\def\\ZZ{\\bf Z}\n",
    "\\def\\NN{\\bf N}\n",
    "$$\n",
    "\n",
    "# Day 6 Stability and Accuracy of Molecular Dynamics"
   ]
  },
  {
   "cell_type": "markdown",
   "id": "3181bb66",
   "metadata": {},
   "source": [
    "through the tutorial there are jupyter cells that can allow you to run the tasks... feel free to add more if they are needed or use the console to run.\n",
    "\n",
    "\n",
    "## Setup (optional)\n",
    "\n",
    "This step is needed only if you run on google colab. Instructions may work on other systems but are not tested."
   ]
  },
  {
   "cell_type": "code",
   "execution_count": null,
   "id": "5297ec88",
   "metadata": {},
   "outputs": [],
   "source": [
    "! pip install data_tutorials\n",
    "! apt install gfortran"
   ]
  },
  {
   "cell_type": "markdown",
   "id": "9432a2db",
   "metadata": {},
   "source": [
    "*Now* bring the data needed for the exercises."
   ]
  },
  {
   "cell_type": "code",
   "execution_count": null,
   "id": "5898230d",
   "metadata": {},
   "outputs": [],
   "source": [
    "from data_tutorials.data import get_data\n",
    "get_data(\n",
    "    url=\"https://raw.githubusercontent.com/ccp5UK/summerschool/main/Day_6/Chaos/\",\n",
    "    filename=[\"plots.py\",\"chaos.f90\"],\n",
    "    folder=\".\",\n",
    ")"
   ]
  },
  {
   "cell_type": "markdown",
   "id": "daff4438",
   "metadata": {},
   "source": [
    "## Introduction\n",
    "\n",
    "MD algorithms are traditionally very simple, but they are not all\n",
    "equally accurate or stable. This exercise allows you to explore some of\n",
    "the aspects of stability and accuracy for a small selection of them. The\n",
    "algorithms we shall look at are:\n",
    "\n",
    "1.  Velocity Verlet\n",
    "2.  Leapfrog\n",
    "3.  Verlet’s original method\n",
    "4.  Rahman’s algorithm\n",
    "\n",
    "All the Verlet variants are simple, explict algorithms and are widely\n",
    "used. Rahman’s algorithm is a predictor-corrector algorithm, which is\n",
    "now of historical interest only. It was used by Rahman in his pioneering\n",
    "work on Argon. We shall investigate the accuracy and stability of these\n",
    "algorithms, using velocity Verlet as the standard.\n",
    "\n",
    "The files for this exercise are in the directory\n",
    "\\~/WORKSHOP/Day_6/Chaos;\n",
    "\n",
    "## Formulae\n",
    "\n",
    "It will be useful to have to hand the relevant formulae for the\n",
    "different integrators.\n",
    "\n",
    "Velocity Verlet:\n",
    "\n",
    "$$\\vec{r}_{n+1} = \\vec{r}_{n} + \\vec{v}_n \\Delta t + \\vec{n}_{n} \\frac{\\Delta t^{2}}{2} + O(\\Delta t^{4})$$\n",
    "\n",
    "$$\\vec{v}_{n+1} = \\vec{v}_{n} + \\frac{\\Delta t}{2}(\\vec{a}_{n} + \\vec{a}_{n+1}) + O(\\Delta t^{3})$$\n",
    "\n",
    "or equivalently:\n",
    "\n",
    "$$\\vec{v}_{n+\\frac{1}{2}} = \\vec{v}_{n} + \\frac{\\Delta t}{2}\\vec{a}_{n} + O(\\Delta t^{2})$$\n",
    "\n",
    "$$\\vec{r}_{n+1} = \\vec{r}_{n} + \\vec{v}_{n+\\frac{1}{2}} \\Delta t + O(\\Delta t^{4})$$\n",
    "\n",
    "$$\\vec{v}_{n+1} = \\vec{v}_{n+\\frac{1}{2}} + \\frac{\\Delta t}{2}\\vec{a}_{n+1} + O(\\Delta t^{3})$$\n",
    "\n",
    "Leapfrog:\n",
    "\n",
    "$$\\vec{v}_{n+\\frac{1}{2}} = \\vec{v}_{n-\\frac{1}{2}} + \\vec{a}_{n} \\Delta t + O(\\Delta t^{3})$$\n",
    "\n",
    "$$\\vec{r}_{n+1} = \\vec{r}_{n} + \\vec{v}_{n+\\frac{1}{2}} \\Delta t + O(\\Delta t^{4})$$\n",
    "\n",
    "Verlet:\n",
    "\n",
    "$$\\vec{r}_{n+1} = 2\\vec{r}_{n} + \\vec{r}_{n-1} + \\vec{a}_{n} \\Delta t^{2} + O(\\Delta t^{4})$$\n",
    "\n",
    "$$\\vec{v}_{n} = \\frac{1}{2 \\Delta t}(\\vec{r}_{n+1} - \\vec{r}_{n-1}) + O(\\Delta t^{2})$$\n",
    "\n",
    "Rahman:\n",
    "\n",
    "$$\\vec{r}_{n+1} = \\vec{r}_{n-1} + 2 \\vec{v}_{n} \\Delta t  + O(\\Delta t^{3})$$\n",
    "\n",
    "$$\\vec{v}_{n+1} = \\vec{v}_{n} + (\\vec{a}_{n} + \\vec{a}_{n+1}) \\frac{\\Delta t}{2} + O(\\Delta t^{3})$$\n",
    "\n",
    "$$\\vec{r}_{n+1} = \\vec{r}_{n} + (\\vec{v}_{n} + \\vec{v}_{n+1}) \\frac{\\Delta t}{2} + O(\\Delta t^{3})$$\n",
    "\n",
    "In all the above formulae $r_{n}$, $v_{n}$ and $a_{n}$ represent\n",
    "position, velocity and acceleration respectively, at the n’th time step,\n",
    "while $\\Delta t$ represents the time step. Terms like $O(\\Delta t^{2})$\n",
    "indicate the order of error. Note that only one of these methods is\n",
    "self-starting, in the sense that only the velocity Verlet can begin\n",
    "immediately from a knowledge of $r_{n}$, $v_{n}$ and $a_{n}$. The others\n",
    "require some additional calculation."
   ]
  },
  {
   "cell_type": "markdown",
   "id": "3697ada0",
   "metadata": {},
   "source": [
    "## The Program Chaos\n",
    "\n",
    "The CHAOS program is designed to simulate a single particle moving in a\n",
    "confining quartic potential of the form:\n",
    "\n",
    "$$V(x,y) = x^{2}y^{2}(x^{2} + y^{2})$$\n",
    "\n",
    "The long time trajectory shows random-like behaviour and will (we hope!)\n",
    "rapidly show up differences in trajectories calculated by different\n",
    "methods. All of the above integration algorithms are coded in the\n",
    "program, though you will only look at two of them at any one time; the\n",
    "velocity Verlet compared with one of the others in sequence.\n",
    "\n",
    "Use the CHAOS and its input file IN. Take a good look at\n",
    "the program source (chaos.f90) and make sure you understand what it is\n",
    "supposed to do. Ask if you don’t! Pay particular attention to how each\n",
    "of the integration algorithms is started. Only the velocity Verlet\n",
    "method can start without extra calculation.\n",
    "\n",
    "You may compile the program using the command:"
   ]
  },
  {
   "cell_type": "code",
   "execution_count": null,
   "id": "95a592d5",
   "metadata": {},
   "outputs": [],
   "source": [
    "! gfortran -o chaos chaos.f90"
   ]
  },
  {
   "cell_type": "markdown",
   "id": "2c45bc10",
   "metadata": {},
   "source": [
    "input looks like this "
   ]
  },
  {
   "cell_type": "code",
   "execution_count": null,
   "id": "b70ae5ef",
   "metadata": {},
   "outputs": [],
   "source": [
    "%%writefile IN\n",
    "1          Experiment number\n",
    "1000       Number of time steps\n",
    "1          Print control\n",
    "0.01       Time step"
   ]
  },
  {
   "cell_type": "code",
   "execution_count": null,
   "id": "539a468f",
   "metadata": {},
   "outputs": [],
   "source": [
    "! ./chaos < IN"
   ]
  },
  {
   "cell_type": "markdown",
   "id": "5e889eaa",
   "metadata": {},
   "source": [
    "Where IN is the input file. You will be able to control the chaos\n",
    "program by setting the numbers in the IN file. The contents of the IN\n",
    "file are as follows, each is a number written on a separate line:"
   ]
  },
  {
   "cell_type": "markdown",
   "id": "90f690b8",
   "metadata": {},
   "source": [
    "key      The experiment number (see below) [integer]\n",
    "nsteps   The required number of timesteps [integer]\n",
    "nprnt    Print control (number of lines printed =nsteps/nprnt) [integer]\n",
    "tstep    The time step [real]"
   ]
  },
  {
   "cell_type": "markdown",
   "id": "cc07f0fc",
   "metadata": {},
   "source": [
    "You are advised to use a fresh copy of the supplied IN file every time\n",
    "you start a new experiment. If you accidentally use an IN file modified\n",
    "from a previous experiment, the things you were meant to observe may not\n",
    "occur!\n",
    "\n",
    "The output from the program will mainly appear in an output file named\n",
    "OUT, though sometimes the average energy and fluctuation will be printed\n",
    "to the screen. The contents may vary with each experiment, as will be\n",
    "described below. It is a good idea to rename and store the OUT files for\n",
    "comparison between the different experiments below."
   ]
  },
  {
   "cell_type": "code",
   "execution_count": null,
   "id": "b03f0f68",
   "metadata": {},
   "outputs": [],
   "source": [
    "%%bash \n",
    "\n",
    "cp OUT OUT.1"
   ]
  },
  {
   "cell_type": "code",
   "execution_count": null,
   "id": "c576ac6e",
   "metadata": {},
   "outputs": [],
   "source": [
    "from plots import *"
   ]
  },
  {
   "cell_type": "code",
   "execution_count": null,
   "id": "4b7754f8",
   "metadata": {},
   "outputs": [],
   "source": [
    "plotFile(\"OUT\",xcol=1,ycol=2,xlabel=\"time\",ylabel=\"y\")\n",
    "plotFile(\"OUT\",xcol=1,ycol=3,xlabel=\"time\",ylabel=\"y\")"
   ]
  },
  {
   "cell_type": "markdown",
   "id": "e74a5952",
   "metadata": {},
   "source": [
    "## Experiment 1. Velocity Verlet and Leapfrog\n",
    "\n",
    "Take the input file IN as you downloaded it. Run the program (it will\n",
    "run for 1000 time steps and will take only a few seconds) then you may\n",
    "examine the OUT file with your preferred editor. The file contains the\n",
    "following data on each line:\n",
    "\n",
    "1.  the integration time;\n",
    "2.  the x and y coordinates of the particle obtained using velocity\n",
    "    verlet;\n",
    "3.  the x and y coordinates of the particle obtained using leapfrog; and\n",
    "4.  the difference in position between the two methods.\n",
    "\n",
    "You should do the following:\n",
    "\n",
    "Compare the coordinates obtained by the two methods. Do they agree\n",
    "closely or not at all? Is the difference in position a constant or is it\n",
    "increasing?\n",
    "\n",
    "It is a good idea to plot the difference in position as a function of\n",
    "time using one of the graph plotters available. It should be apparent\n",
    "that the two algorithms follow the same trajectory quite closely but a\n",
    "gradual divergence takes place.\n",
    "\n",
    "The default setting for the time step in the IN file is 0.01. Try a few\n",
    "experiments using larger and smaller values than this, to see if this\n",
    "causes the trajectories to depart from each other at a different rate.\n",
    "Beware of increasing the time step too much, or the program may crash!\n",
    "\n",
    "It is also interesting to plot the x coordinate versus the y coordinate\n",
    "using a graph plotting program. You will need to cut the relevant two\n",
    "columns of data from the OUT file to do this, but the result will be\n",
    "interesting. You can use this method to compare the trajectories\n",
    "obtained from the different algorithms. Also, try increasing the number\n",
    "of timesteps to (say) 50,000 and plot the trajectory again. You will get\n",
    "an idea of how the potential energy function in this system confines the\n",
    "particle."
   ]
  },
  {
   "cell_type": "code",
   "execution_count": null,
   "id": "2f4b20e1",
   "metadata": {},
   "outputs": [],
   "source": [
    "%%bash\n",
    "\n"
   ]
  },
  {
   "cell_type": "markdown",
   "id": "8236296b",
   "metadata": {},
   "source": [
    "## Experiment 2. Velocity Verlet and Original Verlet\n",
    "\n",
    "Edit a copy of the original IN file and set the 'experiment key' on the\n",
    "first line to 2. This will select the original Verlet algorithm for\n",
    "comparison with velocity Verlet. Run the code. You should obtain a\n",
    "similar result to the previous case but with differences in the actual\n",
    "numbers.\n",
    "\n",
    "Once again you can experiment with the magnitude of time step and see if\n",
    "this changes the rate of divergence.\n",
    "\n",
    "It should be apparent from these experiments that the Verlet algorithms\n",
    "generate closely similar trajectories (at least over the first few\n",
    "hundred time steps), though they are clearly diverging and after a while\n",
    "will follow significantly different trajectories.\n",
    "\n",
    "It should also be apparent that the original Verlet method diverges\n",
    "slightly faster from the trajectory given by the velocity Verlet than\n",
    "does the leapfrog algorithm. This may be attributed to rounding in the\n",
    "machine arithmetic; Verlet’s original method adds a term of order\n",
    "$\\Delta t^{2}$ to the position, while both velocity verlet and leapfrog\n",
    "add a term in $\\Delta t$. This difference in arithmetic is enough to\n",
    "cause the difference in trajectory seen!"
   ]
  },
  {
   "cell_type": "code",
   "execution_count": null,
   "id": "543d8a8d",
   "metadata": {},
   "outputs": [],
   "source": [
    "%%bash\n",
    "\n"
   ]
  },
  {
   "cell_type": "markdown",
   "id": "1d7ca13c",
   "metadata": {},
   "source": [
    "## Experiment 3. Velocity Verlet and Rahman's Algorithm\n",
    "\n",
    "Edit a fresh copy of the original IN file, setting the 'experiment key'\n",
    "to 3. This will select the Rahman predictor-corrector algorithm for\n",
    "comparison with velocity Verlet. Now run the code.\n",
    "\n",
    "Compare again the particle trajectories and the deviations obtained. The\n",
    "behaviour may seem to resemble the previous cases, but the magnitude in\n",
    "the trajectory difference will be considerably larger. It will be clear\n",
    "that Rahman's and Verlet's methods provide trajectories that deviate\n",
    "significantly from each other, though over the first 1000 time steps the\n",
    "trajectories still look broadly the same. Of course this experiment\n",
    "alone does not tell us which of the two algorithms is the more accurate.\n",
    "i.e. which is giving the $best$ trajectory.\n",
    "\n",
    "Once again you should experiment with the magnitude of the time step and\n",
    "see how this affects the trajectory divergence. One thing you should\n",
    "find is that Rahman’s algorithm is more likely to crash at larger time\n",
    "steps. This is a common failing in predictor-corrector algorithms!\n",
    "\n",
    "Rahman’s algorithm, being a predictor-corrector, is iterative. The\n",
    "number of iterations is determined by the variable *icyc* in the source\n",
    "code of chaos.f90, and is set to 2. Locate the assignment of *icyc* near\n",
    "the top of the source code and set it to a larger number and see if the\n",
    "trajectory obtained is significantly different. Note that each iteration\n",
    "demands a new calculation of the force, which makes this a relatively\n",
    "expensive algorithm computationally, so *icyc* should ideally be kept\n",
    "small."
   ]
  },
  {
   "cell_type": "code",
   "execution_count": null,
   "id": "9eacf6f6",
   "metadata": {},
   "outputs": [],
   "source": [
    "%%bash\n",
    "\n"
   ]
  },
  {
   "cell_type": "markdown",
   "id": "03a3633d",
   "metadata": {},
   "source": [
    "## Experiment 4: Energy Conservation\n",
    "\n",
    "Divergent trajectories are worrying, but how significant is this from a\n",
    "thermodynamic point of view? To investigate this, we will calculate the\n",
    "total energy of the particle as given by velocity Verlet and Rahman and\n",
    "compare them.\n",
    "\n",
    "Take an original copy of the IN file and set the 'experiment key' to 4.\n",
    "Then run the CHAOS program. At then end of the run, the program will\n",
    "print on screen the calculated fluctuation in energy of the two methods.\n",
    "It will be apparent that, over this range of time steps, the two\n",
    "algorithms give the same energy, with about the same fluctuation.\n",
    "\n",
    "(Note: In comparing the two algorithms in this way, over a relatively\n",
    "short trajectory, we must bear in mind that a quantitative comparison is\n",
    "only meaningful if the two trajectories are reasonably close. If they\n",
    "have widely different trajectories, comparison is invalid because they\n",
    "will be exploring different parts of phase space. The previous\n",
    "experiments show that the two trajectories in this case are close\n",
    "enough.)\n",
    "\n",
    "The OUT file from this experiment contains the following data on each\n",
    "line:\n",
    "\n",
    "1.  The integration time;\n",
    "2.  The energy calculated by velocity Verlet;\n",
    "3.  The energy obtained by Rahman.\n",
    "\n",
    "Now plot the energies are against time. It will appear that the two\n",
    "algorithms have a different pattern of fluctuations: where the\n",
    "deviations from the average energy are largest, the velocity Verlet\n",
    "algorithm tends to oscillate about the mean, whereas Rahman’s algorithm\n",
    "shows a single large excursion from the mean. It is not too fanciful to\n",
    "imagine that this difference may have consequences for the long term\n",
    "stability of these algorithms.\n",
    "\n",
    "To check this hypothesis, run the same simulation for 10,000 steps (ten\n",
    "times longer) and plot the result. The Rahman algorithm will show a\n",
    "marked drift from the mean, while Verlet’s remains quite stable.\n",
    "\n",
    "It is worth repeating these two simulations, with the time step set to\n",
    "double the original value. The run of 1000 time steps will show that the\n",
    "fluctuation in the energy for the Rahman algorithm is much larger than\n",
    "for Verlet. (We are assuming that the trajectories are reasonably\n",
    "similar! – Check this!) Furthermore the plot of energy against time\n",
    "shows a distinct drift in the Rahman case. The run of 10,000 steps will\n",
    "not finish properly as the Rahman algorithm breaks down. Nevertheless it\n",
    "is useful to plot the energy against time (using a truncated OUT file!)\n",
    "to see how the two algorithms compare up to the point of breakdown.\n"
   ]
  },
  {
   "cell_type": "code",
   "execution_count": null,
   "id": "44929444",
   "metadata": {},
   "outputs": [],
   "source": [
    "%%bash\n",
    "\n"
   ]
  },
  {
   "cell_type": "markdown",
   "id": "78a2560c",
   "metadata": {},
   "source": [
    "## Experiment 5: Time Reversibility\n",
    "\n",
    "The experiments so far suggest that the velocity Verlet algorithm has a\n",
    "built-in long term stability, while Rahman’s does not and (in common\n",
    "with many predictor-corrector algorithms) accumulates significant errors\n",
    "with time.\n",
    "\n",
    "Why is the velocity Verlet algorithm so stable? One reason is that is\n",
    "possesses the property of time reversibility, which is implicit in\n",
    "Newton's laws of motion. Thus changing the sign of time has no effect on\n",
    "the essential physics of the system. Rahman's algorithm, with its\n",
    "iterative corrector, does not have this property, which implies a\n",
    "deficiency of some kind. For example, solving the equations of motion\n",
    "using the Verlet algorithms ensures the Boltzmann distribution function\n",
    "is constant in time, but using Rahman's algorithm does not. If the\n",
    "distribution function is constant in time, the mechanical properties of\n",
    "the system, such as energy, will not drift.\n",
    "\n",
    "You can test the time reversibility of the velocity Verlet and Rahman\n",
    "algorithms with the program CHAOS. Start with a copy of the original IN\n",
    "file, and edit the 'experiment key' to 5. Then run the program. CHAOS\n",
    "will integrate the equations of motion in a positive time direction for\n",
    "half the simulation (500 steps) and then reverse the time direction (by\n",
    "reversing the velocity at the half-way point) and integrate back to zero\n",
    "time.\n",
    "\n",
    "Now examine the OUT file. You need only look at the first and last lines\n",
    "in the file. You will find that for the time step of 0.01, the velocity\n",
    "Verlet algorithm has returned the particle exactly to its starting\n",
    "position. However, the Rahman algorithm does not quite achieve this.\n",
    "\n",
    "Next you should try increasing the time step in the IN file and\n",
    "repeating the experiment several times. It will surprise you how large\n",
    "the time step can be and yet preserve the time reversiblity.\n",
    "\n",
    "Alternatively, if you make the time step successively smaller you will,\n",
    "of course, eventually cause time reversibility apparently to appear in\n",
    "the Rahman algorithm as well, but this is purely circumstantial, and not\n",
    "an intrinsic property of the algorithm itself."
   ]
  },
  {
   "cell_type": "code",
   "execution_count": null,
   "id": "37552cd6",
   "metadata": {},
   "outputs": [],
   "source": [
    "%%bash\n"
   ]
  },
  {
   "cell_type": "code",
   "execution_count": null,
   "id": "bda11954",
   "metadata": {},
   "outputs": [],
   "source": []
  }
 ],
 "metadata": {
  "kernelspec": {
   "display_name": "Python 3 (ipykernel)",
   "language": "python",
   "name": "python3"
  },
  "language_info": {
   "codemirror_mode": {
    "name": "ipython",
    "version": 3
   },
   "file_extension": ".py",
   "mimetype": "text/x-python",
   "name": "python",
   "nbconvert_exporter": "python",
   "pygments_lexer": "ipython3",
   "version": "3.9.13"
  }
 },
 "nbformat": 4,
 "nbformat_minor": 5
}
