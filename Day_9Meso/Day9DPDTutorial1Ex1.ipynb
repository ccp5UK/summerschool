{
 "cells": [
  {
   "cell_type": "markdown",
   "id": "508d0cf1-0e20-4774-bbcd-771bb5d7fe3e",
   "metadata": {},
   "source": [
    "# DPD Tutorial Exercise 1: Simple DPD systems\n",
    "## Ex1. DPD fundamentals and code hacking\n",
    "\n",
    "Take a look at [dpd.F90](dpd.F90). You should be able to make out various sections and subroutines:\n",
    "\n",
    "* reading an input file (to come)\n",
    "* allocations of arrays for positions, velocities and forces of particles\n",
    "* initial simulation setup (placing particles and assigning velocities)\n",
    "* opening output files for statistics and trajectory data\n",
    "* a main loop through the timesteps:\n",
    "  * applying stage 1 of Velocity Verlet integration of forces\n",
    "  * calculating forces on pairs of particles within the cutoff distance\n",
    "  * applying stage 2 of Velocity Verlet\n",
    "  * writing to output files and to the screen at specified intervals\n",
    "* calculations and printing of final properties\n",
    "* closing of files and the program itself\n",
    "\n",
    "Try the following command to compile the code:\n"
   ]
  },
  {
   "cell_type": "code",
   "execution_count": null,
   "id": "f420036f-62ad-41cf-8604-00963edfbcf0",
   "metadata": {
    "scrolled": true
   },
   "outputs": [],
   "source": [
    "!gfortran -o DPD dpd.F90"
   ]
  },
  {
   "cell_type": "markdown",
   "id": "bd75e13c-fb6e-48ff-9658-6e8ea8ffdcc0",
   "metadata": {},
   "source": [
    "You should find that the code does not compile and throws up error messages for lines 603 and 609: *this is expected behaviour*, so please do not panic! These two lines are the ones meant to calculate the dissipative and random forces for a given pair of particles, but at the moment they are incomplete. Your main task for this exercise is to complete these lines and try out the code for a single-component DPD simulation.\n",
    "\n",
    "Some hints on completing those lines:\n",
    "\n",
    "* The dissipative force parameter $\\gamma$ is available as ``gamma`` in the code.\n",
    "* The variable ``sigma`` is equal to $\\sqrt{\\frac{2\\gamma k_B T}{\\Delta t}} = \\frac{\\sigma}{\\sqrt{\\Delta t}}$, i.e. the random force parameter divided by the square root of the timestep size. (This reduces the number of divisions the code has to make.)\n",
    "* The *simplest option* for the screening function for random forces $w^R$ would be the equivalent of that for conservative forces, given as ``wrr``, and a Gaussian random number $\\zeta$ is already calculated for you, available as ``zeta``.\n",
    "* The screening function for dissipative forces _must_ equal $\\left(w^R\\right)^2$, and the dot product of the vector between the particles and their relative velocity, $\\textbf{r}_{ij} \\cdot \\textbf{v}_{ij}$, is available as ``rdv``.\n",
    "* The forces ``fdr`` and ``frr`` need to be divided by $r_{ij}$ (``rrr``) as these will then be multiplied by the actual vector between the particles: see lines 545-550. Note that you may have to divide ``fdr`` by ``rrr`` twice, and $r_{ij}^2$ is available as ``rsq``. \n",
    "\n",
    "Once you are done, try compling the code again:\n"
   ]
  },
  {
   "cell_type": "code",
   "execution_count": null,
   "id": "c92fe29d-021b-4010-b114-00e0d0cda776",
   "metadata": {},
   "outputs": [],
   "source": [
    "!gfortran -o DPD dpd.F90"
   ]
  },
  {
   "cell_type": "markdown",
   "id": "9c8d711a-0b2f-4495-87cf-194bd291aac5",
   "metadata": {},
   "source": [
    "Take a quick look at the input file we are going to use with this code: [INPUT](INPUT). Then run the code using the following command to 'pipe in' the input file:"
   ]
  },
  {
   "cell_type": "code",
   "execution_count": null,
   "id": "cb760204-caf0-4997-a873-c3944107e387",
   "metadata": {},
   "outputs": [],
   "source": [
    "!./DPD < INPUT"
   ]
  },
  {
   "cell_type": "markdown",
   "id": "06c25108-667c-4557-b975-96ac286b9506",
   "metadata": {},
   "source": [
    "If the code has run as expected, you should see some checkpoint data on the screen in four columns: current time in DPD units, total system energy, temperature and pressure. You will also end up with three output files:\n",
    "\n",
    "* ``STATS`` - a statistics file with time, system energy, temperature and pressure for the entire simulation run in tabulated (fixed-width) columns\n",
    "* ``XYZ`` - the final configuration of the system in XYZ format\n",
    "* ``TRAJECT`` - the system trajectory: a sequence of configurations taken at intervals during the simulation in XYZ format\n",
    "\n",
    "You can take a look at the contents of ``STATS`` by using the commands below to invoke a simple plotting script or by opening the file in plotting software (e.g. Gnuplot, Xmgrace) or a spreadsheet program. ``XYZ`` and ``TRAJECT`` can be opened and visualised in VMD, selecting XYZ as the file format in each case."
   ]
  },
  {
   "cell_type": "code",
   "execution_count": null,
   "id": "0761d0e9-107a-4c4e-8ed7-ff862094daf8",
   "metadata": {},
   "outputs": [],
   "source": [
    "from plotstats import *\n",
    "plotStats('STATS', 1, 2, 'Time', 'Energy', 'Energy vs. time')\n",
    "plotStats('STATS', 1, 3, 'Time', 'Temperature', 'Temperature vs. time')\n",
    "plotStats('STATS', 1, 4, 'Time', 'Pressure', 'Pressure vs. time')"
   ]
  },
  {
   "cell_type": "markdown",
   "id": "56b5fc43-115a-4e46-aef4-b2e6fbb07c53",
   "metadata": {},
   "source": [
    "Taking a look at these files:\n",
    "\n",
    "* Is the simulation stable? Does the temperature correspond to the value in the input file?\n",
    "* What happens to the particles when they get close together?\n",
    "* Try re-running the program. You are unlikely to get *exactly* the same results due to how the random number generator is seeded in the code, but how close are the energies, temperatures and pressures between runs?\n",
    "* What happens to the temperature if you halve or double the timestep size?\n",
    "\n",
    "In case you struggle to correctly modify the code, we have a correct version of it available to check: [dpd_solution.F90](dpd_solution.F90).\n",
    "\n",
    "So far, we have used a *brute force* approach for finding particle pairs within the cutoff distance, i.e. two nested loops and an ``IF`` statement to check the distances. A more sophisticated *linked-cell list* approach is also available, which divides the simulation box into cubes ('cells') with sides of at least the cutoff distance, assigns each particle into a cell and searches for particle pairs within each cell and its nearest neighbours but no further!\n",
    "\n",
    "We have programmed the linked-cell list approach into our code and used *preprocessor directives*, which means we can use a command-line option with the Fortran compiler to invoke different parts of the code. To compile our DPD code with this option, try the following command:"
   ]
  },
  {
   "cell_type": "code",
   "execution_count": null,
   "id": "2809d4b7-720b-4905-98d8-808e26a8829a",
   "metadata": {},
   "outputs": [],
   "source": [
    "!gfortran -o DPD-FAST -DFAST dpd.F90"
   ]
  },
  {
   "cell_type": "markdown",
   "id": "160c5bc6-6a93-4914-8725-b1fc94050cc5",
   "metadata": {},
   "source": [
    "and then run the code with the same input file using the following command: "
   ]
  },
  {
   "cell_type": "code",
   "execution_count": null,
   "id": "1f706249-4a00-4c64-84d7-a94395dbace5",
   "metadata": {},
   "outputs": [],
   "source": [
    "!./DPD-FAST < INPUT"
   ]
  },
  {
   "cell_type": "markdown",
   "id": "744630ad-39ed-488c-9918-e44e4c85259c",
   "metadata": {},
   "source": [
    "It should generate the same files as before, which you can open in the same ways as mentioned above.\n",
    "\n",
    "* For the same system size (number of particles and volume), do you notice any difference in reported calculation times?\n",
    "* Try increasing the number of particles and volume by the same factor (keeping the density constant) in the input file, and run the simulation with both versions of the code. How do the calculation times change for each version of the code compared with the original system size?\n",
    "* Can you work out how well each code version scales with the number of particles?\n",
    "\n",
    "The code is not especially exciting, but it can allow you to explore some properties of a DPD fluid. If you want to explore these, try the following *optional* tasks:\n",
    "\n",
    "* Vary the temperature and particle density to see if you can obtain a stable crystalline structure.\n",
    "* Use the ``TRAJECT`` file in VMD to calculate diffusion constants for higher temperature systems.\n",
    "* Try varying the 'energy parameter' (conservative force parameter $A_{ij}$) and measure the fluid pressure at different temperatures and densities.\n",
    "* See if you can find values of the 'energy parameter' that will represent water at various coarse-graining levels (number of molecules per particle)."
   ]
  },
  {
   "cell_type": "markdown",
   "id": "2be53dec-409c-46ad-b0d9-7af219122b86",
   "metadata": {},
   "source": [
    "The next exercise is available in [this notebook](Day9DPDTutorial1Ex2.ipynb)."
   ]
  }
 ],
 "metadata": {
  "kernelspec": {
   "display_name": "Python 3 (ipykernel)",
   "language": "python",
   "name": "python3"
  },
  "language_info": {
   "codemirror_mode": {
    "name": "ipython",
    "version": 3
   },
   "file_extension": ".py",
   "mimetype": "text/x-python",
   "name": "python",
   "nbconvert_exporter": "python",
   "pygments_lexer": "ipython3",
   "version": "3.10.12"
  }
 },
 "nbformat": 4,
 "nbformat_minor": 5
}
