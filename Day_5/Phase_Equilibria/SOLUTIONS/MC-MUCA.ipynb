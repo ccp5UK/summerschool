{
 "cells": [
  {
   "cell_type": "markdown",
   "id": "71dc2663-a081-4251-b98f-e4f5d2aae731",
   "metadata": {},
   "source": [
    "[![Open In Colab](https://colab.research.google.com/assets/colab-badge.svg)](https://colab.research.google.com/github/ccp5UK/summerschool/blob/main/Day_5/Phase_Equilibria/SOLUTIONS/MC-MUCA.ipynb)"
   ]
  },
  {
   "cell_type": "markdown",
   "id": "2ee50024-6c5c-4acd-aa0a-1d431c6aaf68",
   "metadata": {},
   "source": [
    "# Multicanonical simulations (answers)\n",
    "## Introduction\n",
    "In this workshop, you will use grand canonical, multicanonical, and Gibbs ensemble Monte Carlo simulations to investigate liquid-vapour coexistence in the Lennard-Jones system.\n",
    "\n",
    "The instructions for this workshop are contained in two notebooks:\n",
    "`MC-MUCA.ipynb` and `MC-Gibbs.ipynb`. \n",
    "They do not depend on each other, you can tackle them in either order.\n",
    "\n",
    "## Setup (optional)\n",
    "\n",
    "This step is needed only if you run on google colab, be aware the kernel will restart, this is normal. Instructions may work on other systems but are not tested."
   ]
  },
  {
   "cell_type": "code",
   "execution_count": null,
   "id": "bd0d7689-744a-4d32-b3b7-1a9e7bee4e70",
   "metadata": {},
   "outputs": [],
   "source": [
    "! pip install h5py data_tutorials ipympl weas_widget ase\n",
    "! apt install gfortran libhdf5-dev\n",
    "get_ipython().kernel.do_shutdown(restart=True)"
   ]
  },
  {
   "cell_type": "markdown",
   "id": "5ead2c1e-6bc0-4771-9c78-bfee97f99245",
   "metadata": {},
   "source": [
    "Allow widgets to be shown in google colab"
   ]
  },
  {
   "cell_type": "code",
   "execution_count": null,
   "id": "1c00fde2-3b20-4b87-a5fd-9c1908034164",
   "metadata": {},
   "outputs": [],
   "source": [
    "from google.colab import output\n",
    "output.enable_custom_widget_manager()"
   ]
  },
  {
   "cell_type": "markdown",
   "id": "5155a04c-ae7c-4b71-8e53-e40952ca0c44",
   "metadata": {},
   "source": [
    "Now bring the data needed for the exercises."
   ]
  },
  {
   "cell_type": "code",
   "execution_count": null,
   "id": "c1fca3cc-4706-48b4-a27b-8a2b5bf5e02f",
   "metadata": {},
   "outputs": [],
   "source": [
    "from data_tutorials.data import get_data\n",
    "get_data(\n",
    "    url=\"https://raw.githubusercontent.com/ccp5UK/summerschool/main/Day_5/Phase_Equilibria/\",\n",
    "    filename=[\"dat_to_ase.py\",  \"eos_lj.py\",  \"hdf5_module.py\"],\n",
    "    folder=\".\",\n",
    ")\n",
    "get_data(\n",
    "    url=\"https://raw.githubusercontent.com/ccp5UK/summerschool/main/Day_5/Phase_Equilibria/DATA\",\n",
    "    filename=[\"mc_muca_0.hdf5\",\"mc_muca_1.hdf5\",\"mc_muca_2.hdf5\",\"mc_muca_3.hdf5\",\"mc_muca_4.hdf5\",\"mc_muca_5.hdf5\",\"mc_muca_long.hdf5\"],\n",
    "    folder=\"DATA/\",\n",
    ")\n",
    "get_data(\n",
    "    url=\"https://raw.githubusercontent.com/ccp5UK/summerschool/main/Day_5/Phase_Equilibria/DATA\",\n",
    "    filename=[\"config_0.dat\",\"config_1.dat\",\"config_2.dat\",\"config_3.dat\",\"config_4.dat\",\"config_5.dat\"],\n",
    "    folder=\"DATA/\",\n",
    ")\n",
    "get_data(\n",
    "    url=\"https://raw.githubusercontent.com/ccp5UK/summerschool/main/Day_5/Phase_Equilibria/\",\n",
    "    filename=[\"Makefile\",\"config_io_module.f90\",\"hdf5_module.f90\",\"maths_module.f90\",\"mc_module.f90\",\"mc_muca.f90\",\"mc_muca_module.f90\",\"potential_module.f90\"],\n",
    "    folder=\".\",\n",
    ")\n",
    "get_data(\n",
    "    url=\"https://raw.githubusercontent.com/ccp5UK/summerschool/main/Day_5/Phase_Equilibria/\",\n",
    "    filename=[\"config_liq.dat\", \"config_vap.dat\"],\n",
    "    folder=\".\",\n",
    ")"
   ]
  },
  {
   "cell_type": "markdown",
   "id": "67236b09-dd0d-420e-928b-43036eea7198",
   "metadata": {},
   "source": [
    "The Lennard-Jones potential is\n",
    "\\begin{equation*}\n",
    "u_{\\text{LJ}}(r) = 4\\varepsilon \\left[\\left( \\frac{\\sigma}{r}\\right)^{12}-\\left(\\frac{\\sigma}{r}\\right)^6 \\right]\n",
    "\\end{equation*}\n",
    "where $r$ is the distance between the atoms, \n",
    "$\\varepsilon$ is an energy characterizing the strength of the interaction, \n",
    "and $\\sigma$ is a length scale that characterizes the size of the atoms. \n",
    "In the following, reduced units are employed, so $\\varepsilon=1$ and $\\sigma=1$, \n",
    "and in addition Boltzmann's constant is taken to be unity $k_{\\text{B}}=1$.\n",
    "The simulation programs use the cut-and-shifted Lennard-Jones potential defined by\n",
    "\\begin{equation*}\n",
    "   u(r) =\n",
    "     \\begin{cases} u_{\\text{LJ}}(r) - u_{\\text{LJ}}(r_{\\text{cut}}) & r \\leq r_{\\text{cut}} \\\\ 0 & r> r_{\\text{cut}} \\end{cases}\n",
    "\\end{equation*}\n",
    "where the cut-off distance is taken to be $r_{\\text{cut}}= 2.5$."
   ]
  },
  {
   "cell_type": "markdown",
   "id": "f64cc9d0",
   "metadata": {},
   "source": [
    "## Preliminaries\n",
    "Start by importing all the required Python modules and functions."
   ]
  },
  {
   "cell_type": "code",
   "execution_count": null,
   "id": "80e4b950",
   "metadata": {},
   "outputs": [],
   "source": [
    "%matplotlib ipympl\n",
    "import matplotlib.pyplot as plt\n",
    "import numpy as np\n",
    "from scipy.optimize import brentq\n",
    "from ipywidgets import FloatSlider, VBox\n",
    "from glob import glob\n",
    "from dat_to_ase import argon\n",
    "from weas_widget import WeasWidget\n",
    "from hdf5_module import read_file\n",
    "from eos_lj import eos\n",
    "plt.style.use(['seaborn-v0_8-talk','seaborn-v0_8-darkgrid','seaborn-v0_8-colorblind'])\n",
    "plt.rc('image',cmap='viridis')\n",
    "plt.rc('legend',frameon=True,framealpha=1.0)\n",
    "plt.rc('hist',bins=100) # Default number of bins to use in histograms"
   ]
  },
  {
   "cell_type": "markdown",
   "id": "413a266a-221c-457a-8610-7b5a82207cd2",
   "metadata": {},
   "source": [
    "For the chosen potential, in reduced units,\n",
    "the critical point is at $T_{\\text{c}}=1.0779$, $\\rho_{\\text{c}}=0.3190$.\n",
    "The state point of interest here,\n",
    "however,\n",
    "is at a somewhat lower temperature, $T=0.95$.\n",
    "At this temperature,\n",
    "the liquid and vapour phases may coexist,\n",
    "with densities\n",
    "$\\rho_{\\text{liq}}\\approx 0.622$ and $\\rho_{\\text{vap}}\\approx 0.0665$\n",
    "(see J Vrabec *et al*,\n",
    "[*Molec Phys,* **104,** 1509 (2006)](https://doi.org/10.1080/00268970600556774)).\n",
    "The pressure of these two phases at coexistence is $P_{\\text{coex}}\\approx 0.045$,\n",
    "and the chemical potential $\\mu_{\\text{coex}}\\approx -3.14$.\n",
    "\n",
    "Locating these coexistence densities by simulation is part of the aim of this exercise."
   ]
  },
  {
   "cell_type": "code",
   "execution_count": null,
   "id": "3402c766-67fd-424a-941c-ff367b577299",
   "metadata": {},
   "outputs": [],
   "source": [
    "# Store the literature coexistence values for this temperature, for later use\n",
    "rho_vap = 0.0665\n",
    "rho_liq = 0.622\n",
    "P_coex  = 0.045\n",
    "mu_coex = -3.14"
   ]
  },
  {
   "attachments": {},
   "cell_type": "markdown",
   "id": "32f5062b-070c-40b2-bf08-6b98b1cb613f",
   "metadata": {},
   "source": [
    "In this notebook you will conduct grand canonical simulations,\n",
    "at given values of chemical potential $\\mu$, volume $V$ and temperature $T$,\n",
    "followed by a series of weighted simulations at the same $V$ and $T$ aimed at \n",
    "sampling all values of $N$ with equal probability: \n",
    "a so-called flat-histogram simulation.\n",
    "\n",
    "Then you will process the flat-histogram results,\n",
    "to calculate the probability $\\mathcal{P}_{\\mu}(N)$ of particle number $N$ \n",
    "in the constant-$\\mu VT$ ensemble, for any chosen value of $\\mu$.\n",
    "The aim is to see two peaks in $\\mathcal{P}_{\\mu}(N)$, one for each phase, \n",
    "and adjust $\\mu$ to give equal peak areas, which is the condition for two-phase coexistence.\n",
    "\n",
    "The following bash instruction should build the program used in this notebook: `mc_muca`."
   ]
  },
  {
   "cell_type": "code",
   "execution_count": null,
   "id": "64bf432a",
   "metadata": {},
   "outputs": [],
   "source": [
    "!make mc_muca"
   ]
  },
  {
   "cell_type": "markdown",
   "id": "5fb90d8d",
   "metadata": {},
   "source": [
    "The two most important program files are `mc_muca.f90` and `mc_muca_module.f90`.\n",
    "Open these,\n",
    "and look through them to figure out what is going on."
   ]
  },
  {
   "cell_type": "markdown",
   "id": "9fcdbc8e",
   "metadata": {},
   "source": [
    "## Grand canonical Monte Carlo simulations\n",
    "\n",
    "The program `mc_muca` carries out a simulation of a single system, \n",
    "with fixed box dimensions, \n",
    "at a specified temperature $T$, \n",
    "in which the number of particles $N$ is allowed to vary. \n",
    "Optionally, it reads in data from a file,\n",
    "and calculates a set of weights $\\Phi(N)$, which will be useful later. \n",
    "To begin with, however, this file is not supplied,\n",
    "and in these circumstances\n",
    "all the weights are set to the values appropriate \n",
    "for the grand canonical ensemble,\n",
    "namely $\\Phi(N)=\\mu N$,\n",
    "where $\\mu$ is the chemical potential.\n",
    "Default choices for $T$ and $\\mu$ are in the file `mc_muca.f90`;\n",
    "$\\mu$ should be reasonably close to the coexistence value at the chosen $T$.\n",
    "\n",
    "The first run will start from a configuration file at liquid density supplied in the file `config_liq.dat`. \n",
    "The format of the configuration files used here is as follows:\n",
    "\n",
    "```\n",
    "   n\n",
    "   xbox ybox zbox\n",
    "   x1   y1   z1\n",
    "   x2   y2   z2\n",
    "   x3   y3   z3\n",
    "   :    :    :\n",
    "   xn   yn   zn\n",
    "```\n",
    "\n",
    "where the first line gives the number of atoms, the second line gives the box dimensions \n",
    "and the subsequent lines give the coordinates of each atom. \n",
    "The following cell should allow you to visualize this configuration."
   ]
  },
  {
   "cell_type": "code",
   "execution_count": null,
   "id": "7c347cdb",
   "metadata": {
    "scrolled": true
   },
   "outputs": [],
   "source": [
    "atoms=argon('config_liq.dat')\n",
    "v=WeasWidget()\n",
    "v.from_ase(atoms)\n",
    "v"
   ]
  },
  {
   "cell_type": "markdown",
   "id": "a43cf0fa",
   "metadata": {},
   "source": [
    "The box dimensions are $5\\times5\\times15$. \n",
    "The reason for using such an elongated box will become clear later; \n",
    "note that it is on the margins of acceptability, \n",
    "being only twice as wide as $r_{\\mathrm{cut}}= 2.5$.\n",
    "\n",
    "Start the run in the following cell.\n",
    "Before running,\n",
    "the above configuration file is copied to the input file `config_old.dat`.\n",
    "Also, the file `mc_muca_old.hdf5`, if it exists, is removed.\n",
    "While the program is running, \n",
    "feel free to take a look at the file `mc_muca_module.f90` which contains the appropriate move routines."
   ]
  },
  {
   "cell_type": "code",
   "execution_count": null,
   "id": "09c64324",
   "metadata": {},
   "outputs": [],
   "source": [
    "!cp config_liq.dat config_old.dat\n",
    "!rm -f mc_muca_old.hdf5\n",
    "!echo '&nml /' | ./mc_muca\n",
    "!cp mc_muca.hdf5 mc_muca_liq.hdf5"
   ]
  },
  {
   "cell_type": "markdown",
   "id": "5c89ffcb",
   "metadata": {},
   "source": [
    "You'll need to wait until the run has finished before proceeding. \n",
    "The main object of interest is the probability distribution $\\mathcal{P}_{\\mu}(N)$.\n",
    "An un-normalized version of this, $h(N)$,\n",
    "as well as other quantities accumulated as functions of $N$,\n",
    "are stored as datasets in `mc_muca.hdf5`,\n",
    "which we have copied to `mc_muca_liq.hdf5` for safe keeping.\n",
    "Notice that, for this program,\n",
    "we have not output any step-by-step datasets.\n"
   ]
  },
  {
   "cell_type": "code",
   "execution_count": null,
   "id": "d9ad545e-9140-4072-a099-0c02308071f0",
   "metadata": {},
   "outputs": [],
   "source": [
    "params, data = read_file('mc_muca_liq.hdf5')"
   ]
  },
  {
   "cell_type": "markdown",
   "id": "c53d1c12-e1b3-400a-acf1-4ebc3792e118",
   "metadata": {},
   "source": [
    "The following cells read in run parameters,\n",
    "and the $h(N)$ histogram.\n",
    "The range of $N$ sampled during the run is printed,\n",
    "then $h(N)$ is normalized and plotted."
   ]
  },
  {
   "cell_type": "code",
   "execution_count": null,
   "id": "667912d0-7c3a-4857-8673-f66981bce63b",
   "metadata": {},
   "outputs": [],
   "source": [
    "print(params['Title'].astype(str))\n",
    "print('Number of steps',params['nstep'])\n",
    "Nmax  = params['Nmax']\n",
    "V     = params['V']\n",
    "T     = params['T']\n",
    "mu    = params['mu']\n",
    "L     = params['L']\n",
    "print(f'Box    Lx,Ly,Lz = {L[0]:10.4f}{L[1]:10.4f}{L[2]:10.4f}')\n",
    "print(f'Maximum N  Nmax = {Nmax:10d}')\n",
    "print(f'Volume        V = {V:10.4f}')\n",
    "print(f'Temperature   T = {T:10.4f}')\n",
    "print(f'Chem pot     mu = {mu:10.4f}')\n",
    "Nsampled,=np.nonzero(data['h']>0.5)\n",
    "print(f'N range sampled = {Nsampled[0]:10d}{Nsampled[-1]:10d}')"
   ]
  },
  {
   "cell_type": "code",
   "execution_count": null,
   "id": "2e043f12",
   "metadata": {},
   "outputs": [],
   "source": [
    "p = data['h']/data['h'].sum()\n",
    "N = np.arange(Nmax+1)\n",
    "fig, ax = plt.subplots(figsize=(8,4))\n",
    "fig.canvas.header_visible = False\n",
    "fig.canvas.toolbar_visible = False\n",
    "fig.canvas.footer_visible = False\n",
    "fig.set_tight_layout(True)\n",
    "ax.set_ylim([0, 0.06])\n",
    "ax.set_xlabel(r'$N$')\n",
    "ax.set_ylabel(r'$\\mathcal{P}_{\\mu}(N)$')\n",
    "ax.plot(N,p)\n",
    "ax.axvline(x=np.sum(p*N),c='C1') # Average N in this simulation\n",
    "ax.axvline(x=rho_vap*V,ls='dotted',c='k')\n",
    "ax.axvline(x=rho_liq*V,ls='dotted',c='k');"
   ]
  },
  {
   "attachments": {},
   "cell_type": "markdown",
   "id": "8e48282d-0ea9-406b-afca-78b4f0de6eff",
   "metadata": {},
   "source": [
    "It is most likely that the system will stay in its initial phase, liquid \n",
    "(but it doesn't matter if a switch to vapour happens).\n",
    "In most cases, this will show a single peak, \n",
    "around a value of $N$ that matches the average density multiplied by the volume of the box. \n",
    "This is plotted as a vertical line in the above plot,\n",
    "as well as dotted lines corresponding to the expected values of \n",
    "the coexisting liquid and vapour densities from the literature\n",
    "(as mentioned at the top of the worksheet).\n",
    "We could calculate similar averages, such as the pressure and the potential energy,\n",
    "from our simulation,\n",
    "which is just a grand-canonical ensemble simulation of the liquid phase.\n",
    "However, in this workshop, we want to focus on the histogram of $N$.\n",
    "\n",
    "The second run will start from a configuration file `config_vap.dat` containing no atoms.\n",
    "Start the run in the following cell. It should take less time than the previous one.\n",
    "Note that, once again, just to be sure, \n",
    "any file `mc_muca_old.hdf5` containing weights is removed,\n",
    "so the run should be a straightforward grand canonical simulation."
   ]
  },
  {
   "cell_type": "code",
   "execution_count": null,
   "id": "ce440a0b",
   "metadata": {},
   "outputs": [],
   "source": [
    "!cp config_vap.dat config_old.dat\n",
    "!rm -f mc_muca_old.hdf5\n",
    "!echo '&nml /' | ./mc_muca\n",
    "!cp mc_muca.hdf5 mc_muca_vap.hdf5"
   ]
  },
  {
   "cell_type": "markdown",
   "id": "75048bcf",
   "metadata": {},
   "source": [
    "Once more, wait until the run has finished before proceeding. \n",
    "Use the following cells to plot the $h(N)$ histogram file, \n",
    "once more normalized."
   ]
  },
  {
   "cell_type": "code",
   "execution_count": null,
   "id": "7a4bf703-41d8-4ca0-8473-d59dec1c75bb",
   "metadata": {},
   "outputs": [],
   "source": [
    "params, data = read_file('mc_muca_vap.hdf5')"
   ]
  },
  {
   "cell_type": "code",
   "execution_count": null,
   "id": "f83bb163-4ffd-4b89-9291-32b24de11b39",
   "metadata": {},
   "outputs": [],
   "source": [
    "print(params['Title'].astype(str))\n",
    "print('Number of steps',params['nstep'])\n",
    "Nmax = params['Nmax']\n",
    "V    = params['V']\n",
    "T    = params['T']\n",
    "mu   = params['mu']\n",
    "print(f'Box   Lx,Ly,Lz  = {L[0]:10.4f}{L[1]:10.4f}{L[2]:10.4f}')\n",
    "print(f'Maximum N  Nmax = {Nmax:10d}')\n",
    "print(f'Volume        V = {V:10.4f}')\n",
    "print(f'Temperature   T = {T:10.4f}')\n",
    "print(f'Chem pot     mu = {mu:10.4f}')\n",
    "Nsampled,=np.nonzero(data['h']>0.5)\n",
    "print(f'N range sampled = {Nsampled[0]:10d}{Nsampled[-1]:10d}')"
   ]
  },
  {
   "cell_type": "code",
   "execution_count": null,
   "id": "36452071",
   "metadata": {},
   "outputs": [],
   "source": [
    "p = data['h']/data['h'].sum()\n",
    "N = np.arange(Nmax+1)\n",
    "fig, ax = plt.subplots(figsize=(8,4))\n",
    "fig.canvas.header_visible = False\n",
    "fig.canvas.toolbar_visible = False\n",
    "fig.canvas.footer_visible = False\n",
    "fig.set_tight_layout(True)\n",
    "ax.set_ylim([0, 0.06])\n",
    "ax.set_xlabel(r'$N$')\n",
    "ax.set_ylabel(r'$\\mathcal{P}_{\\mu}(N)$')\n",
    "ax.plot(N,p)\n",
    "ax.axvline(x=np.sum(p*N),c='C1') # Average N in this simulation\n",
    "ax.axvline(x=rho_vap*V,ls='dotted',color='k')\n",
    "ax.axvline(x=rho_liq*V,ls='dotted',color='k');"
   ]
  },
  {
   "cell_type": "markdown",
   "id": "6f123522",
   "metadata": {},
   "source": [
    "It is most likely that the system will stay in its initial phase, vapour \n",
    "(but it doesn't matter if a switch to liquid happens). \n",
    "\n",
    "If these runs were extended, it would become more likely \n",
    "(provided  $\\mu$ is very close to the coexistence value) \n",
    "that the system would eventually sample both phases, \n",
    "but to do this means crossing a free energy barrier at intermediate values of $N$. \n",
    "At best, the sampling in this region will be poor. The simulation needs some help!"
   ]
  },
  {
   "cell_type": "markdown",
   "id": "78af1dcb",
   "metadata": {},
   "source": [
    "## Multicanonical Monte Carlo simulations\n",
    "Recall from the lecture that in a multicanonical MC simulation with weights $\\Phi(N)$, \n",
    "the distribution of the number of atoms $N$ is\n",
    "\\begin{equation*}\n",
    "\\mathcal{P}_{\\Phi}(N) \\propto Q(N) \\, e^{\\beta\\Phi(N)}\n",
    "\\end{equation*}\n",
    "where $\\beta=1/k_{\\text{B}}T$, or\n",
    "\\begin{equation*}\n",
    "-k_{\\text{B}}T\\ln\\mathcal{P}_{\\Phi}(N) = F(N) - \\Phi(N) + \\text{constant}\n",
    "\\end{equation*}\n",
    "where \n",
    "$Q(N)$ is the canonical partition function,\n",
    "and $F(N)=-k_{\\text{B}}T\\ln Q(N)$ the Helmholtz free energy.\n",
    "For simplicity, the dependence on $VT$ is not written explicitly here. \n",
    "If $\\Phi(N)=\\mu N$ this is just the grand canonical distribution $\\mathcal{P}_{\\mu}(N)$; \n",
    "but the aim here is to find weights that will make $\\mathcal{P}_{\\Phi}(N)\\approx$ constant. \n",
    "This will be true if\n",
    "\\begin{equation*}\n",
    "\\Phi(N) = F(N) .\n",
    "\\end{equation*}\n",
    "This can then be used to construct an (improved) estimate for the multicanonical weights.\n",
    "Roughly, this is based on the formula above, \n",
    "i.e. having measured $\\mathcal{P}_{\\Phi}(N)$ from a simulation using weights $\\Phi(N)$,\n",
    "we estimate the free energy\n",
    "\\begin{equation*}\n",
    "F(N) =  -k_{\\text{B}}T\\ln\\mathcal{P}_{\\Phi}(N) + \\Phi(N) ,\n",
    "\\end{equation*}\n",
    "and then set $\\Phi(N) := F(N)$ for the next run.\n",
    "The hope is that these new $\\Phi(N)$ will generate \n",
    "a flatter $\\mathcal{P}_{\\Phi}(N)$ in the next run.\n",
    "In practice the program works with *differences* in free energies,\n",
    "i.e. estimates of the chemical potential $\\mu(N)\\equiv F(N)-F(N-1)$,\n",
    "and *ratios* of probability histograms $\\mathcal{P}_{\\Phi}(N)/\\mathcal{P}_{\\Phi}(N-1)$.\n",
    "\n",
    "At the completion of each run, `mc_muca` outputs the necessary data\n",
    "to the file `mc_muca.hdf5`. \n",
    "Specifically, it contains the following datasets:\n",
    "\n",
    "1. `h`, the number histogram $h(N) \\propto \\mathcal{P}_{\\Phi}(N)$ which we have seen already;\n",
    "2. `mu`, an estimate of $\\mu(N)$ from which we can calculate $F(N)$ and hence $\\Phi(N)$;\n",
    "3. `wt`, the *statistical* weight of that estimate.\n",
    "\n",
    "The following cell performs such a sequence of runs,\n",
    "$1, 2, \\ldots, 5$,\n",
    "refining the weights after each run.\n",
    "Run number $0$ is the one just conducted (with no weights).\n",
    "The new configuration, and new weights, produced by that run\n",
    "are copied into the starting files for run $1$.\n",
    "Copies of the relevant files are also stored for later analysis,\n",
    "each labelled by the run number.\n",
    "This will take a few minutes, \n",
    "and it is possible that you will not see any output until all the runs are finished.\n"
   ]
  },
  {
   "cell_type": "code",
   "execution_count": null,
   "id": "fe5e15a5",
   "metadata": {},
   "outputs": [],
   "source": [
    "%%bash\n",
    "cp mc_muca.hdf5 mc_muca_0.hdf5\n",
    "cp config.dat   config_0.dat\n",
    "mv mc_muca.hdf5 mc_muca_old.hdf5\n",
    "mv config.dat   config_old.dat\n",
    "for k in $(seq 5); do\n",
    "    echo '&nml /' | ./mc_muca\n",
    "    cp mc_muca.hdf5 mc_muca_${k}.hdf5\n",
    "    cp config.dat   config_${k}.dat\n",
    "    mv mc_muca.hdf5 mc_muca_old.hdf5\n",
    "    mv config.dat   config_old.dat\n",
    "done"
   ]
  },
  {
   "cell_type": "markdown",
   "id": "efd3bd9b",
   "metadata": {},
   "source": [
    "If time is pressing, it is OK to interrupt the kernel, \n",
    "and carry out the next step with whatever results have been generated so far.\n",
    "Otherwise, of course, feel free to take a break!\n",
    "\n",
    "The idea of these runs is to show a steady improvement in the sampling,\n",
    "generating probability histograms that are increasingly flat.\n",
    "Because these runs are not very long, for this system, things may not work out perfectly,\n",
    "but hopefully they will give an idea of what to expect. Let's see!\n",
    "\n",
    "The next cell will look for all the HDF5 files whose names match the given pattern,\n",
    "and plot the $h(N)$ histograms,\n",
    "normalized to give $\\mathcal{P}_{\\Phi}(N)$."
   ]
  },
  {
   "cell_type": "code",
   "execution_count": null,
   "id": "79df8ee3",
   "metadata": {},
   "outputs": [],
   "source": [
    "files=glob('mc_muca_?.hdf5')\n",
    "files.sort()\n",
    "fig, ax = plt.subplots(figsize=(8,4))\n",
    "fig.canvas.header_visible = False\n",
    "fig.canvas.toolbar_visible = False\n",
    "fig.canvas.footer_visible = False\n",
    "fig.set_tight_layout(True)\n",
    "ax.set_xlabel(r'$N$')\n",
    "ax.set_ylabel(r'$\\mathcal{P}_{\\Phi}(N)$')\n",
    "for file in files:\n",
    "    params, data = read_file(file)\n",
    "    p = data['h']/data['h'].sum()\n",
    "    N = np.arange(Nmax+1)\n",
    "    ax.plot(N,p,label=file[-6:-5])\n",
    "ax.axvline(x=rho_vap*V,ls='dotted',color='k')\n",
    "ax.axvline(x=rho_liq*V,ls='dotted',color='k')\n",
    "ax.legend(loc='upper center',ncol=2);"
   ]
  },
  {
   "cell_type": "markdown",
   "id": "d3159897-623a-42e2-a480-a8004683886e",
   "metadata": {},
   "source": [
    "In case things didn't go well, or just for comparison,\n",
    "we have provided a similar set of files in the `DATA` subdirectory.\n",
    "Just replace the first statement in the cell above with `files=glob('DATA/mc_muca_?.hdf5')`.\n",
    "\n",
    "You may also like to visualize the final configuration from each of your runs,\n",
    "`config_1.dat`, `config_2.dat` etc.,\n",
    "as done in the next cell.\n",
    "These might be liquid-like, vapour-like, or a mixture of the two.\n",
    "Once more, we have provided some example configurations in the `DATA` subdirectory.\n",
    "The supplied file `DATA/config_4.dat` contains a mixed configuration.\n",
    "\n"
   ]
  },
  {
   "cell_type": "code",
   "execution_count": null,
   "id": "c8566921-18e9-439f-ad53-cf37979a2cdc",
   "metadata": {},
   "outputs": [],
   "source": [
    "atoms=argon('config_1.dat')\n",
    "v=WeasWidget()\n",
    "v.from_ase(atoms)\n",
    "v"
   ]
  },
  {
   "cell_type": "markdown",
   "id": "b9bff3f5",
   "metadata": {},
   "source": [
    "## Exercise: locating coexistence\n",
    "\n",
    "Ideally, \n",
    "after refining the weights enough times \n",
    "to generate an essentially flat sampled distribution, \n",
    "a very long run should be carried out, perhaps $10\\times$ or $100\\times$ longer. \n",
    "You may like to try that after the workshop is finished,\n",
    "but for now the results of such a run have been supplied in the file `DATA/mc_muca_long.hdf5`.\n",
    "The next cell loads the essential data from that file,\n",
    "which has the same format as the HDF5 files described above.\n",
    "This time,\n",
    "we will be interested in two datasets: `data['h']` and `data['mu']`.\n",
    "We start by plotting the first of these."
   ]
  },
  {
   "cell_type": "code",
   "execution_count": null,
   "id": "57805294-154c-4727-8b39-11eeb228e937",
   "metadata": {},
   "outputs": [],
   "source": [
    "params, data = read_file('DATA/mc_muca_long.hdf5')"
   ]
  },
  {
   "cell_type": "code",
   "execution_count": null,
   "id": "37caf3e1-6ce7-48ac-a20b-cda55fe8a1d7",
   "metadata": {},
   "outputs": [],
   "source": [
    "Nmax = params['Nmax']\n",
    "V    = params['V']\n",
    "T    = params['T']\n",
    "print(f'Maximum N  Nmax = {Nmax:10d}')\n",
    "print(f'Volume        V = {V:10.4f}')\n",
    "print(f'Temperature   T = {T:10.4f}')\n",
    "Nsampled,=np.nonzero(data['h']>0.5)\n",
    "print(f'N range sampled = {Nsampled[0]:10d}{Nsampled[-1]:10d}')"
   ]
  },
  {
   "cell_type": "code",
   "execution_count": null,
   "id": "b5156185",
   "metadata": {},
   "outputs": [],
   "source": [
    "N = np.arange(Nmax+1)\n",
    "fig, ax = plt.subplots(figsize=(8,4))\n",
    "fig.canvas.header_visible = False\n",
    "fig.canvas.toolbar_visible = False\n",
    "fig.canvas.footer_visible = False\n",
    "fig.set_tight_layout(True)\n",
    "ax.set_xlabel(r'$N$')\n",
    "ax.set_ylabel(r'$\\mathcal{P}_{\\Phi}(N)$')\n",
    "p = data['h']/data['h'].sum()\n",
    "ax.plot(N,p)\n",
    "ax.axvline(x=rho_vap*V,ls='dotted',c='k')\n",
    "ax.axvline(x=rho_liq*V,ls='dotted',c='k');"
   ]
  },
  {
   "cell_type": "markdown",
   "id": "a51fcae6",
   "metadata": {},
   "source": [
    "The long run generates a reasonably flat histogram; \n",
    "the high-$N$ end is slightly less well sampled.\n",
    "Compare the vertical scale of this plot with the results of your sequence of multicanonical runs,\n",
    "especially the later ones.\n",
    "\n",
    "The `data['mu']` array contains values of $\\mu(N)$ \n",
    "for $N=1\\ldots N_{\\text{max}}$.\n",
    "This will be used to compute $F(N)$,\n",
    "where $F(N)$ is the corresponding Helmholtz free energy.\n",
    "We use the cumulative sum function, based on $F(N)=F(N-1)+\\mu(N)$\n",
    "(a similar formula was used in the Fortran code to compute the weights),\n",
    "for this same range of $N$.\n",
    "We take $F(0)=0$ as a reference point,\n",
    "although we don't store this value.\n",
    "Note that the array elements `F[0]`, `F[1]` etc. store the values of $F$\n",
    "for $N=1,2,\\ldots$,\n",
    "so we redefine the `N` array accordingly,\n",
    "to cover the range $1\\ldots N_{\\text{max}}$."
   ]
  },
  {
   "cell_type": "code",
   "execution_count": null,
   "id": "0d97bb50",
   "metadata": {},
   "outputs": [],
   "source": [
    "F = np.cumsum(data['mu'])\n",
    "N = np.arange(1,Nmax+1)"
   ]
  },
  {
   "cell_type": "markdown",
   "id": "fccc5ed0",
   "metadata": {},
   "source": [
    "The following function calculates the *unweighted* probability distribution \n",
    "$\\mathcal{P}_{\\mu}(N)$ for any given $\\mu$,\n",
    "using the formula\n",
    "$\\mathcal{P}_{\\mu}(N) \\propto Q(N) \\exp(\\beta\\mu N)$ where $Q(N)=\\exp(-\\beta F(N))$.\n",
    "The arrays `F` and `N` are supplied to this function.\n",
    "In the following cells, `mu` is the chosen value of $\\mu$ \n",
    "(don't confuse with the `data['mu']` array that we used in the previous cell)\n",
    "and recall that $\\beta=1/k_{\\text{B}}T$.\n",
    "The function also returns the total probabilities \n",
    "in the first half and the second half of this distribution, \n",
    "assuming that these will correspond to vapour and liquid, respectively.\n",
    "Hopefully, $\\mathcal{P}_{\\mu}(N)$ will be very small in the middle of the range, \n",
    "so the result should not depend sensitively on this choice. "
   ]
  },
  {
   "cell_type": "code",
   "execution_count": null,
   "id": "6e5e97ec",
   "metadata": {},
   "outputs": [],
   "source": [
    "def prob ( T, mu, F, N ):\n",
    "    \"\"\"Probability distribution for number of atoms at given chemical potential.\n",
    "    \n",
    "    Arguments\n",
    "    ---------\n",
    "    T : float, scalar\n",
    "        temperature of simulation\n",
    "    mu : float, scalar\n",
    "        chosen chemical potential\n",
    "    F : float, NumPy array\n",
    "        estimates of F(N) for N = 1 .. Nmax inclusive\n",
    "    N : float, NumPy array\n",
    "        sequence of N = 1 .. Nmax inclusive\n",
    "    Returns\n",
    "    -------\n",
    "    float, Numpy array\n",
    "        normalized probability distribution for N = 1 .. Nmax inclusive\n",
    "    float, scalar\n",
    "        total probability weight in first half of array\n",
    "    float, scalar\n",
    "        total probability weight in second half of array\n",
    "    \"\"\"\n",
    "    \n",
    "    P = np.exp ( ( -F + mu*N ) / T ) # Un-normalized probabilities\n",
    "    p = P/np.sum(P)                  # Normalized probabilities\n",
    "    m = p.size//2                    # Mid-point\n",
    "    p1 = np.sum(p[:m])               # Sum of first half\n",
    "    p2 = np.sum(p[m:])               # Sum of second half\n",
    "    return p, p1, p2"
   ]
  },
  {
   "cell_type": "markdown",
   "id": "b09eb087",
   "metadata": {},
   "source": [
    "The next few cells set up an interactive plot for $\\mathcal{P}_{\\mu}(N)$, \n",
    "with a slider to adjust $\\mu$.\n",
    "You should find that the plot is very sensitive to the value of $\\mu$. \n",
    "The values of the areas under the two peaks are displayed along with the plot.\n",
    "The aim is to get two peaks with equal areas.\n",
    "\n",
    "After your first try, \n",
    "you should adjust the values of `mu_min` and `mu_max`,\n",
    "bringing them closer together,\n",
    "and re-run the cell,\n",
    "so as to zero in more accurately on the coexistence value of $\\mu$.\n",
    "It should be possible to determine $\\mu$ to 3 or 4 decimal places."
   ]
  },
  {
   "cell_type": "code",
   "execution_count": null,
   "id": "85cff8aa-78a3-47a8-90a7-77e79a898797",
   "metadata": {},
   "outputs": [],
   "source": [
    "# Set up the figure. Just do this once.\n",
    "with plt.ioff():\n",
    "    fig, ax = plt.subplots(figsize=(8,4))\n",
    "fig.canvas.header_visible = False\n",
    "fig.canvas.toolbar_visible = False\n",
    "fig.canvas.footer_visible = False\n",
    "fig.set_tight_layout(True)"
   ]
  },
  {
   "cell_type": "code",
   "execution_count": null,
   "id": "53c1e215-8a4c-4bb7-b368-c0d014bd9433",
   "metadata": {},
   "outputs": [],
   "source": [
    "# Return to this cell when you want to adjust mu_min and mu_max values to bracket the coexistence value\n",
    "# Remember to keep mu_min < mu_max (they are both negative)\n",
    "mu_min=-3.3\n",
    "mu_max=-3.0\n",
    "mu_mid=0.5*(mu_max+mu_min) # Ensure that starting value is in range\n",
    "mu_del=(mu_max-mu_min)/50  # Give a reasonable number of intervals in this range\n",
    "# Set up the slider widget\n",
    "slider=FloatSlider(min=mu_min,max=mu_max,step=mu_del,value=mu_mid,\n",
    "                   readout_format='.4f',description='mu')\n",
    "slider.layout.width = '80%'"
   ]
  },
  {
   "cell_type": "code",
   "execution_count": null,
   "id": "b5166b08",
   "metadata": {},
   "outputs": [],
   "source": [
    "plt.cla() # Clear the axes\n",
    "ax.set_ylim([0, 0.08])\n",
    "ax.set_xlabel(r'$N$')\n",
    "ax.set_ylabel(r'$\\mathcal{P}_{\\mu}(N)$')\n",
    "mu = slider.value\n",
    "p, p_vap, p_liq = prob ( T, mu, F, N )\n",
    "ann_vap=ax.annotate('{:8.5f}'.format(p_vap),xy=(50,0.06),ha='center')\n",
    "ann_liq=ax.annotate('{:8.5f}'.format(p_liq),xy=(208,0.06),ha='center')\n",
    "lines=ax.plot(N, p)\n",
    "ax.axvline(x=rho_vap*V,ls='dotted',c='k')\n",
    "ax.axvline(x=rho_liq*V,ls='dotted',c='k')\n",
    "def update(change):\n",
    "    mu = change.new\n",
    "    p, p_vap, p_liq = prob ( T, mu, F, N )\n",
    "    lines[0].set_data(N,p)\n",
    "    ann_vap.set_text('{:8.5f}'.format(p_vap))\n",
    "    ann_liq.set_text('{:8.5f}'.format(p_liq))\n",
    "    fig.canvas.draw()\n",
    "    fig.canvas.flush_events()\n",
    "slider.observe(update, names='value')\n",
    "VBox([slider,fig.canvas])"
   ]
  },
  {
   "cell_type": "markdown",
   "id": "66d9ae13",
   "metadata": {},
   "source": [
    "The value of $\\mu$ may be extracted from the slider, for further refinement."
   ]
  },
  {
   "cell_type": "code",
   "execution_count": null,
   "id": "5ae7e113",
   "metadata": {},
   "outputs": [],
   "source": [
    "mu=slider.value\n",
    "print(mu)"
   ]
  },
  {
   "cell_type": "markdown",
   "id": "8efab6ad",
   "metadata": {},
   "source": [
    "### Optional exercise: automatic optimization\n",
    "\n",
    "Adjusting $\\mu$ by hand like this is rather fiddly. \n",
    "It is more satisfactory to optimize this parameter automatically, \n",
    "to give equal left and right areas within a small numerical tolerance. \n",
    "If time permits, try to do this; otherwise skip to the next section, on __Coexistence__.\n",
    "\n",
    "To help, below we define a Python function `f(mu)` (the difference between left and right areas);\n",
    "the numerical task is to solve the equation `f(mu)=0` for `mu`.\n",
    "This can be done by a method such as Newton-Raphson,\n",
    "if the derivative of `f(mu)` with respect to `mu` is also computed.\n",
    "However, here, we suggest that you use the function `brentq(f,mu_min,mu_max)` \n",
    "which has been imported from the `scipy.optimize` sub-package.\n",
    "This just needs `f`, and a pair of limits `mu_min` and `mu_max` which should bracket the root.\n",
    "`brentq` returns the root, i.e. the value of `mu` satisfying `f(mu)=0`."
   ]
  },
  {
   "cell_type": "code",
   "execution_count": null,
   "id": "a5cf6525",
   "metadata": {},
   "outputs": [],
   "source": [
    "def f(mu):\n",
    "    p, p_vap, p_liq = prob ( T, mu, F, N )\n",
    "    return p_vap-p_liq"
   ]
  },
  {
   "cell_type": "code",
   "execution_count": null,
   "id": "1fde05a2",
   "metadata": {},
   "outputs": [],
   "source": [
    "# Inserted code\n",
    "mu = brentq(f,-3.4,-3.0)\n",
    "print(f'{mu=:15.10f}   {f(mu)=:15.10f}')"
   ]
  },
  {
   "cell_type": "markdown",
   "id": "7e377d82",
   "metadata": {},
   "source": [
    "## Coexistence\n",
    "\n",
    "After you have found your best estimate of the coexistence value of $\\mu$, \n",
    "compare it with the value estimated from the Gibbs simulation programs\n",
    "(covered in the accompanying notebook),\n",
    "and with the rough estimate given in the introduction to this notebook.\n",
    "\n",
    "To finish this exercise, we shall plot $\\mathcal{P}_{\\mu}(N)$, \n",
    "and the effective, or Landau, free energy \n",
    "which we shall call\n",
    "$\\mathcal{F}_{\\mu}(N)=-k_{\\text{B}}T \\ln \\mathcal{P}_{\\mu}(N)$, \n",
    "at coexistence.\n",
    "\n",
    "At the exact coexistence point, \n",
    "the plot of $\\mathcal{F}_{\\mu}(N)$ vs $N$ will have a horizontal region in the middle, \n",
    "corresponding to a range of densities over which\n",
    "the system consists of two slab-like regions (one liquid, one vapour) in the simulation box.\n",
    "Using an elongated $5\\times 5\\times 15$ box helps favour these configurations. \n",
    "It is possible to estimate the surface tension $\\gamma$ of the liquid-vapour interface \n",
    "by comparing the height of this plateau with the free energy minima. \n",
    "The difference is $\\Delta\\mathcal{F}_{\\mu}=2A\\gamma$ \n",
    "where $A=5\\times5$ is the cross-sectional area. \n",
    "The factor $2$ is because there are two interfaces. \n",
    "At this temperature, $T=0.95$, \n",
    "the value of the surface tension is $\\gamma\\approx0.15$ \n",
    "(see S Stephan et al, \n",
    "[*J Phys Chem C,* **122,** 24705 (2018)](https://doi.org/10.1021/acs.jpcc.8b06332)). "
   ]
  },
  {
   "cell_type": "code",
   "execution_count": null,
   "id": "f543ea14",
   "metadata": {},
   "outputs": [],
   "source": [
    "fig, ax = plt.subplots(figsize=(8,4))\n",
    "fig.canvas.header_visible = False\n",
    "fig.canvas.toolbar_visible = False\n",
    "fig.canvas.footer_visible = False\n",
    "fig.set_tight_layout(True)\n",
    "ax.set_ylim([0, 0.03])\n",
    "ax.set_xlabel(r'$N$')\n",
    "ax.set_ylabel(r'$\\mathcal{P}_{\\mu}(N)$')\n",
    "p, p_vap, p_liq = prob ( T, mu, F, N )\n",
    "ax.plot(N,p)\n",
    "ax.annotate('{:8.5f}'.format(p_vap),xy=(50,0.025),ha='center')\n",
    "ax.annotate('{:8.5f}'.format(p_liq),xy=(208,0.025),ha='center')\n",
    "ax.axvline(x=rho_vap*V,ls='dotted',c='k')\n",
    "ax.axvline(x=rho_liq*V,ls='dotted',c='k');"
   ]
  },
  {
   "cell_type": "markdown",
   "id": "cd48676e",
   "metadata": {},
   "source": [
    "As explained above,\n",
    "the free energy associated with two interfaces is $\\Delta\\mathcal{F}_{\\mu}=2A\\gamma$.\n",
    "In the simulated system, $A=5\\times5=25$, \n",
    "and $\\gamma\\approx0.15$ at this temperature, $T=0.95$\n",
    "(see S Stephan et al, \n",
    "[*J Phys Chem C,* **122,** 24705 (2018)](https://doi.org/10.1021/acs.jpcc.8b06332)),\n",
    "so $\\Delta\\mathcal{F}_{\\mu} \\approx 2\\times25\\times 0.15 \\approx 7.5$.\n",
    "Recall that $\\Delta\\mathcal{F}_{\\mu}=-k_{\\mathrm{B}}T\\ln\\mathcal{P}_{\\mu}(N)+C$ \n",
    "and in our units $k_{\\mathrm{B}}=1$.\n",
    "An equivalent formula is $\\Delta\\mathcal{F}_{\\mu}(N)=F(N)-\\mu N$ \n",
    "(look at the definition of `prob(T,mu,F,N)` above).\n",
    "A plot of $\\Delta\\mathcal{F}_{\\mu}(N)$ against $N$ should have two free energy minima,\n",
    "one for each phase,\n",
    "separated by a flat plateau corresponding to \n",
    "the two-phase system containing two interfaces.\n",
    "It should be possible to read off the value of $\\Delta\\mathcal{F}_{\\mu}$.\n",
    "Let's see!"
   ]
  },
  {
   "cell_type": "code",
   "execution_count": null,
   "id": "5bcc13c9",
   "metadata": {},
   "outputs": [],
   "source": [
    "A     = params['L'][0]*params['L'][1] # Cross-sectional area of simulation box\n",
    "gamma = 0.15                          # Approximate literature value of surface tension"
   ]
  },
  {
   "cell_type": "code",
   "execution_count": null,
   "id": "ff8e8a0f",
   "metadata": {},
   "outputs": [],
   "source": [
    "fig, ax = plt.subplots(figsize=(8,4))\n",
    "fig.canvas.header_visible = False\n",
    "fig.canvas.toolbar_visible = False\n",
    "fig.canvas.footer_visible = False\n",
    "fig.set_tight_layout(True)\n",
    "ax.set_ylim([0,8])\n",
    "ax.set_xlabel(r'$N$')\n",
    "ax.set_ylabel(r'$\\mathcal{F}_{\\mu}(N)$')\n",
    "p, p_vap, p_liq = prob ( T, mu, F, N )\n",
    "Free = -T*np.log ( p ) # This formula is equivalent to the following one\n",
    "# Free = F - mu*N      # This formula is equivalent to the preceding one\n",
    "Free = Free - np.min(Free)\n",
    "ax.plot(N,Free)\n",
    "ax.axvline(x=rho_vap*V,ls='dotted',c='k')\n",
    "ax.axvline(x=rho_liq*V,ls='dotted',c='k')\n",
    "ax.axhline(y=2*A*gamma,ls='dotted',c='k');"
   ]
  },
  {
   "cell_type": "markdown",
   "id": "081147b4",
   "metadata": {},
   "source": [
    "The result should be reasonably close to the literature value of $\\Delta\\mathcal{F}_{\\mu} \\approx 7.5$. Remember, a serious study would use a larger system."
   ]
  },
  {
   "cell_type": "markdown",
   "id": "5cd343d4",
   "metadata": {},
   "source": [
    "### Further Work\n",
    "\n",
    "As a by-product of the flat-histogram approach, \n",
    "we have effectively done $NVT$ simulations across a wide range of densities,\n",
    "and can therefore obtain some useful thermodynamic results.\n",
    "For instance, the pressure $P(\\rho)$ may be calculated using the virial expression,\n",
    "if we collate results according to the value of $N$.\n",
    "However, we can also calculate this from the datasets at hand.\n",
    "Recall that $G=F+PV$ and that $G=\\mu N$ for a single-component system.\n",
    "We read in the `data['mu']` array again, along with the essential parameters,\n",
    "and recalculate `F` and `N`.\n",
    "The following cells combine these together,\n",
    "and plot the resulting equation of state $P(\\rho)$ \n",
    "against the fitted EOS described in earlier workshops.\n",
    "Remember, though, that the fitted EOS is only valid in bulk phases.\n",
    "Therefore, in the coexistence region,\n",
    "we replace the predictions of that equation by the known coexistence pressure."
   ]
  },
  {
   "cell_type": "code",
   "execution_count": null,
   "id": "3c100507-61ad-45bc-9143-02c4638faa56",
   "metadata": {},
   "outputs": [],
   "source": [
    "params, data = read_file('DATA/mc_muca_long.hdf5')"
   ]
  },
  {
   "cell_type": "code",
   "execution_count": null,
   "id": "764bb6ef-7479-4bd9-a869-c3de74e3eb0c",
   "metadata": {},
   "outputs": [],
   "source": [
    "Nmax = params['Nmax']\n",
    "V    = params['V']\n",
    "T    = params['T']\n",
    "F   = np.cumsum(data['mu'])\n",
    "N   = np.arange(1,Nmax+1)\n",
    "G   = data['mu'] * N\n",
    "P   = (G - F) / V\n",
    "rho = N / V\n",
    "\n",
    "# Fill Peos array\n",
    "Peos = [ eos(density=den,temperature=T)['P'] for den in rho ]\n",
    "Peos = np.array(Peos)\n",
    "\n",
    "# Replace values in coexistence region by literature value\n",
    "Peos[(rho>rho_vap) & (rho<rho_liq)] = P_coex"
   ]
  },
  {
   "cell_type": "code",
   "execution_count": null,
   "id": "04195780",
   "metadata": {},
   "outputs": [],
   "source": [
    "fig, ax = plt.subplots(figsize=(8,4))\n",
    "fig.canvas.header_visible = False\n",
    "fig.canvas.toolbar_visible = False\n",
    "fig.canvas.footer_visible = False\n",
    "fig.set_tight_layout(True)\n",
    "ax.set_xlabel(r'$\\rho$')\n",
    "ax.set_ylabel(r'$P(\\rho)$')\n",
    "ax.plot(rho,P,label='simulated')\n",
    "ax.plot(rho,Peos,label='fitted')\n",
    "ax.axvline(x=rho_liq,ls='dotted',color='k')\n",
    "ax.axvline(x=rho_vap,ls='dotted',color='k')\n",
    "ax.legend();"
   ]
  },
  {
   "cell_type": "markdown",
   "id": "39d28948",
   "metadata": {},
   "source": [
    "In the coexistence region, the simulation results contain contributions from the interfaces.\n",
    "Perfect agreement with the fitted EOS should not be expected,\n",
    "but hopefully it is close."
   ]
  },
  {
   "cell_type": "markdown",
   "id": "ba694c5e",
   "metadata": {},
   "source": [
    "This concludes the notebook.\n",
    "If you have completed the Gibbs simulation notebook as well,\n",
    "it is the end of this workshop."
   ]
  },
  {
   "cell_type": "code",
   "execution_count": null,
   "id": "c865ef1f",
   "metadata": {},
   "outputs": [],
   "source": []
  }
 ],
 "metadata": {
  "kernelspec": {
   "display_name": "Python 3 (ipykernel)",
   "language": "python",
   "name": "python3"
  },
  "language_info": {
   "codemirror_mode": {
    "name": "ipython",
    "version": 3
   },
   "file_extension": ".py",
   "mimetype": "text/x-python",
   "name": "python",
   "nbconvert_exporter": "python",
   "pygments_lexer": "ipython3",
   "version": "3.13.5"
  }
 },
 "nbformat": 4,
 "nbformat_minor": 5
}
