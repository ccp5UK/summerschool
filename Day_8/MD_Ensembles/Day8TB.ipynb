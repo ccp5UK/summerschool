{
 "cells": [
  {
   "cell_type": "markdown",
   "id": "1cbd8790",
   "metadata": {},
   "source": [
    "[![Open In Colab](https://colab.research.google.com/assets/colab-badge.svg)](https://colab.research.google.com/github/ccp5UK/summerschool/blob/main/Day_8/MD_Ensembles/Day8TB.ipynb)\n",
    "\n",
    "$$\n",
    "\\def\\CC{\\bf C}\n",
    "\\def\\QQ{\\bf Q}\n",
    "\\def\\RR{\\bf R}\n",
    "\\def\\ZZ{\\bf Z}\n",
    "\\def\\NN{\\bf N}\n",
    "$$\n",
    "# Day 8 Thermostats\n",
    "\n",
    "These exercises use DL_POLY to demonstrate the use of temperature\n",
    "scaling and extended system methods. The working directory for these\n",
    "exercises is *\\~/WORKSHOP/Day_8/MD_Ensembles*. The DL_POLY v5\n",
    "manual can be found at [this link](https://ccp5.gitlab.io/dl-poly/) for reference whilst the executable,\n",
    "*DLPOLY.Z*.\n",
    "\n",
    "## Setup(optional)\n",
    "This step is needed only if you run on google colab. Instructions may work on other systems but are not tested."
   ]
  },
  {
   "cell_type": "code",
   "execution_count": null,
   "id": "e9e648da",
   "metadata": {},
   "outputs": [],
   "source": [
    "! pip install data_tutorials weas_widget ase\n",
    "! apt install gfortran "
   ]
  },
  {
   "cell_type": "markdown",
   "id": "9b9aecf1",
   "metadata": {},
   "source": [
    "*Now* bring the data needed for the exercises.\n"
   ]
  },
  {
   "cell_type": "code",
   "execution_count": null,
   "id": "69e40bdb",
   "metadata": {},
   "outputs": [],
   "source": [
    "from data_tutorials.data import get_data\n",
    "get_data(\n",
    "    url=\"https://raw.githubusercontent.com/ccp5UK/summerschool/main/Day_8/MD_Ensembles/Exercise_1/\",\n",
    "    filename=[\"CONTROL\",\"FIELD\",\"CONFIG\"],\n",
    "    folder=\"Exercise_1/\",\n",
    ")\n",
    "get_data(\n",
    "    url=\"https://raw.githubusercontent.com/ccp5UK/summerschool/main/Day_8/MD_Ensembles/Exercise_1/high_T/\",\n",
    "    filename=[\"CONTROL\",\"FIELD\",\"CONFIG\"],\n",
    "    folder=\"Exercise_1/high_T/\",\n",
    ")\n",
    "get_data(\n",
    "    url=\"https://raw.githubusercontent.com/ccp5UK/summerschool/main/Day_8/MD_Ensembles/Exercise_1/no_scale/\",\n",
    "    filename=[\"CONTROL\",\"FIELD\",\"CONFIG\"],\n",
    "    folder=\"Exercise_1/no_scale/\",\n",
    ")\n",
    "get_data(\n",
    "    url=\"https://raw.githubusercontent.com/ccp5UK/summerschool/main/Day_8/MD_Ensembles/Exercise_2/\",\n",
    "    filename=[\"CONTROL\",\"FIELD\",\"CONFIG\"],\n",
    "    folder=\"Exercise_2/\",\n",
    ")\n",
    "get_data(\n",
    "    url=\"https://raw.githubusercontent.com/ccp5UK/summerschool/main/Day_8/MD_Ensembles/Exercise_3/\",\n",
    "    filename=[\"CONTROL\",\"FIELD\",\"CONFIG\"],\n",
    "    folder=\"Exercise_3/\",\n",
    ")\n",
    "\n",
    "get_data(\n",
    "    url=\"https://raw.githubusercontent.com/ccp5UK/summerschool/main/Day_8/MD_Ensembles/\",\n",
    "    filename=[\"rdf.py\",\"statis.py\"],\n",
    "    folder=\".\",\n",
    ")\n",
    "\n",
    "get_data(\n",
    "    url=\"https://raw.githubusercontent.com/ccp5UK/summerschool/main/.raw/\",\n",
    "    filename=[\"DLPOLY.Z\"],\n",
    "    folder=\"/usr/local/bin\",\n",
    ")\n",
    "! chmod 755 /usr/local/bin/DLPOLY.Z"
   ]
  },
  {
   "cell_type": "code",
   "execution_count": null,
   "id": "ef637fd5",
   "metadata": {},
   "outputs": [],
   "source": [
    "from statis import *\n",
    "from rdf import *\n",
    "import numpy as np\n",
    "from weas_widget import WeasWidget\n",
    "from ase.io import read\n"
   ]
  },
  {
   "cell_type": "markdown",
   "id": "76b047cc",
   "metadata": {},
   "source": [
    "## Exercise 1: Velocity scaling\n",
    "\n",
    "This exercise demonstrates the use of velocity scaling to set the\n",
    "initial temperature of an MD run. The test case is comprised of rigid\n",
    "SPC water molecules. The FIELD, CONTROL and CONFIG files are in the\n",
    "directory *Exercise_1* and there is a copy of all the input files with\n",
    "the scale command removed(rescale_frequency) in the sub-directory *no_scale*. Study\n",
    "the files and try to understand what is being requested of the\n",
    "simulation. The DL_POLY keyword *rescale_frequency* is used to define the number of\n",
    "MD steps between velocity scaling events. In this example we have *rescale_frequency\n",
    "10 steps*, so that every 10 time steps during the equilibration phase of the\n",
    "simulation run the velocities will be scaled to bring the temperature\n",
    "into line with the set temperature (295 K).\n",
    "\n",
    "Run DLPOLY.Z for the system with and without scaling in the respective\n",
    "directories. \n",
    "\n",
    "start by visualising your data"
   ]
  },
  {
   "cell_type": "code",
   "execution_count": null,
   "id": "e428e496",
   "metadata": {},
   "outputs": [],
   "source": [
    "\n",
    "water = read(\"Exercise_1/CONFIG\")\n",
    "v=WeasWidget()\n",
    "v.from_ase(water)\n",
    "v.avr.model_style = 1\n",
    "v.avr.show_hydrogen_bonds = True\n",
    "v"
   ]
  },
  {
   "cell_type": "code",
   "execution_count": null,
   "id": "298027e6",
   "metadata": {},
   "outputs": [],
   "source": [
    "%%bash\n",
    "\n",
    "cd Exercise_1\n",
    "rm -f STATIS\n",
    "DLPOLY.Z"
   ]
  },
  {
   "cell_type": "markdown",
   "id": "d2772e92",
   "metadata": {},
   "source": [
    "you can view now the trajectory created"
   ]
  },
  {
   "cell_type": "code",
   "execution_count": null,
   "id": "db743d72",
   "metadata": {},
   "outputs": [],
   "source": [
    "traj = read(\"Exercise_1/HISTORY\",index=\":\")\n",
    "v=WeasWidget()\n",
    "v.from_ase(traj)\n",
    "v.avr.model_style = 1\n",
    "v.avr.show_hydrogen_bonds = True\n",
    "v"
   ]
  },
  {
   "cell_type": "code",
   "execution_count": null,
   "id": "a0d386e5",
   "metadata": {},
   "outputs": [],
   "source": [
    "%%bash\n",
    "\n",
    "cd Exercise_1/no_scale\n",
    "rm -f STATIS\n",
    "DLPOLY.Z"
   ]
  },
  {
   "cell_type": "markdown",
   "id": "93bd8181",
   "metadata": {},
   "source": [
    "We will print the instantaneous temperature from STATIS files. We use a simple python script to extract data and plot... if you are curious you can look into it and extend it to plot more quantities."
   ]
  },
  {
   "cell_type": "code",
   "execution_count": null,
   "id": "adeaea39",
   "metadata": {},
   "outputs": [],
   "source": [
    "s1 = Statis(\"Exercise_1/STATIS\")\n",
    "s2 = Statis(\"Exercise_1/no_scale/STATIS\")\n",
    "\n",
    "s1.plot(\"temperature\")\n",
    "s2.plot(\"temperature\")"
   ]
  },
  {
   "cell_type": "markdown",
   "id": "9b31b4d8",
   "metadata": {},
   "source": [
    "rescale_frequencyFor the RDF plot use the another small python script (see below)\n",
    "This will print the  *g(r)* of all species in your system, O and H in this case.For this example the oxygen atoms of the water are labelled OW.\n",
    "\n",
    "\n",
    "The start point for these simulations was generated using a high\n",
    "temperature run (see Exercise_1/high_T). How has this affected the runs\n",
    "with and without velocity scaling?\n"
   ]
  },
  {
   "cell_type": "code",
   "execution_count": null,
   "id": "8866d6b6-20f3-42e0-a07a-4f7435206979",
   "metadata": {},
   "outputs": [],
   "source": [
    "%%bash\n",
    "\n",
    "cd Exercise_1/high_T\n",
    "rm -f STATIS\n",
    "DLPOLY.Z"
   ]
  },
  {
   "cell_type": "code",
   "execution_count": null,
   "id": "4ff35d68",
   "metadata": {},
   "outputs": [],
   "source": [
    "r1 = rdf(\"Exercise_1/RDFDAT\")\n",
    "r2 = rdf(\"Exercise_1/no_scale/RDFDAT\")\n",
    "\n",
    "r1.plot()\n",
    "r2.plot()"
   ]
  },
  {
   "cell_type": "markdown",
   "id": "ea296e52",
   "metadata": {},
   "source": [
    "\n",
    "## Exercise 2: Thermostats\n",
    "\n",
    "This exercise looks at the choice of coupling time constant for a\n",
    "simulation using a thermostat to obtain the NVT ensemble using Hoover thermostat as modified by Melchiona et al. The system is\n",
    "the same as in Exercise 1, an SPC model of water which has been\n",
    "initially run at 500 K. We will test coupling time constants of 2.0 ps,\n",
    "0.5 ps and 0.02 ps. Go into the *Exercise_2* directory and make some\n",
    "appropriately named sub-directories, e.g.: ''mkdir 0p002'' Copy the\n",
    "CONFIG, CONTROL and FIELD files into your sub-directories, edit the CONTROL file to contain the right value (look for ``ensemble_thermostat_coupling`` line) then save and run the\n",
    "DLPOLY.Z command."
   ]
  },
  {
   "cell_type": "code",
   "execution_count": null,
   "id": "3fc7459d",
   "metadata": {},
   "outputs": [],
   "source": [
    "%%bash\n",
    "\n",
    "cd Exercise_2\n",
    "mkdir -p 0p002\n",
    "cd 0p002\n",
    "cp ../CONFIG .\n",
    "cp ../FIELD .\n",
    "cp ../CONTROL .\n",
    "# do not forget to change the CONTROL file"
   ]
  },
  {
   "cell_type": "code",
   "execution_count": null,
   "id": "ffa78f90",
   "metadata": {},
   "outputs": [],
   "source": [
    "%%bash \n",
    "\n",
    "cd Exercise_2/0p002\n",
    "DLPOLY.Z"
   ]
  },
  {
   "cell_type": "markdown",
   "id": "b656edcb",
   "metadata": {},
   "source": [
    "Add cells as needed to do all the simulations\n",
    "\n",
    "Remember the starting structure in this case was at high temperature so\n",
    "the first thing to consider is the way that the thermostat brings the\n",
    "temperature into line with the target temperature and once this is\n",
    "achieved the fluctuations observed.\n",
    "\n",
    "Using the same scrtipt as above plot the temperature vs time plots for each of your\n",
    "simulations as we did in Exercise 1.\n",
    "What is the effect of the coupling time constant on the rate at which\n",
    "the target temperature is achieved and the fluctuations in the\n",
    "temperature in general?"
   ]
  },
  {
   "cell_type": "code",
   "execution_count": null,
   "id": "2be4da9d",
   "metadata": {},
   "outputs": [],
   "source": [
    "s1 = Statis(\"Exercise_2/0p002/STATIS\")\n",
    "\n",
    "s1.plot(\"temperature\")"
   ]
  },
  {
   "cell_type": "markdown",
   "id": "2443522e",
   "metadata": {},
   "source": [
    "Fluctuations contain information. Remember that the aim is not to\n",
    "eliminate fluctuations altogether but to obtain a simulation that\n",
    "correctly samples the NVT ensemble. In this part of the exercise we will\n",
    "look at the fluctuations in the total energy for the NVT simulation\n",
    "using the different coupling constants. We will use the restart file in\n",
    "DL_POLY to obtain a structure for each of the coupling constants. For\n",
    "example, in the *0p002* directory type."
   ]
  },
  {
   "cell_type": "code",
   "execution_count": null,
   "id": "2903b0fc",
   "metadata": {},
   "outputs": [],
   "source": [
    "%%bash\n",
    "\n",
    "cd Exercise_2\n",
    "mkdir -p equilib_run  \n",
    "cp CONTROL FIELD equilib_run  \n",
    "cp 0p002/REVCON equilib_run/CONFIG\n",
    "\n",
    "cd equilib_run\n",
    "DLPOLY.Z"
   ]
  },
  {
   "cell_type": "markdown",
   "id": "cc5eb63c",
   "metadata": {},
   "source": [
    "This makes a copy of the files but with the final structure of the first\n",
    "run (REVCON) as a new start point. Now run the three equilib_run jobs\n",
    "and use the statis.py to obtain the time evolution of the total\n",
    "energy. The fluctuation in the total energy is given by:\n",
    "\n",
    "$$\\langle \\delta E^{2} \\rangle = \\langle E^{2} \\rangle - \\langle E \\rangle ^{2}$$\n",
    "\n",
    "and this quantity is related to the heat capacity via:\n",
    "\n",
    "$$C_{V} = \\frac{N_{m}}{kT^{2}} \\langle \\delta E^{2} \\rangle _{NVT}$$\n",
    "\n",
    "where $N_{m}$ is the number of particles in the simulation.\n",
    "\n",
    "Use the python script to extract the Etot timeseries so that the required averages can be\n",
    "calculated. The result is a numpy array so things shall be straight forward. \n",
    "If you are not comfortable with python, the timeseries is saved in etot.dat. Use that with your favourite tool.\n",
    "\n",
    "How does the time constant affect the observed\n",
    "fluctuations? Is this consistent with what you saw in the first part of\n",
    "the exercise?\n",
    "\n"
   ]
  },
  {
   "cell_type": "code",
   "execution_count": null,
   "id": "0d00043b",
   "metadata": {},
   "outputs": [],
   "source": [
    "s = Statis(\"Exercise_2/equilib_run/STATIS\")\n",
    "\n",
    "s.plot(\"total_energy\")\n",
    "Etot = s.get_total_energy()\n",
    "print(Etot)\n",
    "np.savetxt('etot.dat', Etot, delimiter='\\n')"
   ]
  },
  {
   "cell_type": "markdown",
   "id": "43ed3f2f",
   "metadata": {},
   "source": [
    "If you have time try to estimate the specific heat capacity of SPC water\n",
    "using your results, it is difficult to get accurate values with short\n",
    "runs (you could create better data once you return to your lab), have a\n",
    "look at the variation of your values when using different sections of\n",
    "the data."
   ]
  },
  {
   "cell_type": "markdown",
   "id": "58cc82b0",
   "metadata": {},
   "source": [
    "## Caveat\n",
    "\n",
    "Finally, here is another reminder that some \"thermostats\", even some widely-used ones, do not generate the canonical $NVT$ ensemble. They may not generate any equilibrium ensemble at all! Even if they do, in principle, correspond to a well-defined ensemble, they may, in practice, produce unphysical velocity distributions (sometimes called the \"flying ice cube effect\"). This can be dangerous: there are published papers containing incorrect results which have been traced back to a poor choice of thermostat. You may like to read Braun *et al*, \n",
    "[*J Chem Theor Comput,* **14,** 5262 (2018)](https://doi.org/10.1021/acs.jctc.8b00446) for some guidance in this area, and possibly also Petersen and Searles, [*Phys Chem Chem Phys,* **24,** 6383 (2022)](https://doi.org/10.1039/d1cp05316g) for an interesting theoretical result. In any case, be aware of the issue.\n"
   ]
  },
  {
   "cell_type": "code",
   "execution_count": null,
   "id": "54d487d0",
   "metadata": {},
   "outputs": [],
   "source": []
  }
 ],
 "metadata": {
  "kernelspec": {
   "display_name": "Python 3 (ipykernel)",
   "language": "python",
   "name": "python3"
  },
  "language_info": {
   "codemirror_mode": {
    "name": "ipython",
    "version": 3
   },
   "file_extension": ".py",
   "mimetype": "text/x-python",
   "name": "python",
   "nbconvert_exporter": "python",
   "pygments_lexer": "ipython3",
   "version": "3.11.3"
  }
 },
 "nbformat": 4,
 "nbformat_minor": 5
}
