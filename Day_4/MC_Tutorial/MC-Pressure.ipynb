{
 "cells": [
  {
   "cell_type": "markdown",
   "id": "ed0c0e6d",
   "metadata": {},
   "source": [
    "# Monte Carlo at Constant Pressure\n",
    "This exercise is intended to demonstrate the operation of a constant-pressure Monte Carlo program.\n",
    "\n",
    "There are two other notebooks in this directory; \n",
    "you should have worked through both of them already in an earlier workshop.\n",
    "This exercise builds on some of the ideas already covered in the `MC-Lennard-Jones` notebook.\n",
    "\n",
    "## Introduction\n",
    "In a system with pairwise-additive interactions $u(r)$ \n",
    "the virial expression for the pressure is given (see lecture notes) \n",
    "in terms of the pair virial function $r (du/dr)$. \n",
    "This function is calculated and accumulated in the same way as the pair potential. \n",
    "In a constant-pressure simulation the value of $P$ is input as a parameter, \n",
    "and there is no need to use the expression just mentioned, \n",
    "although it is always good to check that the measured average matches the input value. \n",
    "\n",
    "In such a simulation, the system size varies: \n",
    "the box volume is changed randomly $V\\rightarrow V+\\Delta V$, \n",
    "and the move accepted or rejected using a formula which depends on the specified value of $P$. \n",
    "Such a volume-changing move is typically attempted once per step, \n",
    "after $N$ attempted molecule displacements, where $N$ is the number of molecules.\n",
    "We can obtain the equation of state \n",
    "in the form of the average density $\\rho$ at given $P$, \n",
    "rather than averaging $P$ at fixed $\\rho$.\n",
    "\n",
    "The system being studied here is the same one that was investigated in the `MC-Lennard-Jones` notebook,\n",
    "namely the cut-and-shifted Lennard-Jones potential with $r_{\\text{cut}}=2.5$ (in reduced units). \n",
    "Further details are given in that notebook.\n",
    "Moreover, the state point of interest is the same, $T=2.0$, $\\rho=0.5$,\n",
    "which lies in the supercritical region of the phase diagram.\n",
    "This state point was discussed in lectures.\n",
    "\n",
    "## Preliminaries\n",
    "Start by importing some useful Python modules and functions."
   ]
  },
  {
   "cell_type": "code",
   "execution_count": null,
   "id": "c83622e1",
   "metadata": {},
   "outputs": [],
   "source": [
    "import numpy as np\n",
    "import matplotlib.pyplot as plt\n",
    "from hdf5_module import read_file\n",
    "from eos_lj import eos\n",
    "plt.style.use(['seaborn-v0_8-talk','seaborn-v0_8-darkgrid','seaborn-v0_8-colorblind'])\n",
    "plt.rc('image',cmap='viridis')\n",
    "plt.rc('legend',frameon=True,framealpha=1.0)\n",
    "plt.rc('hist',bins=100) # Default number of bins to use in histograms"
   ]
  },
  {
   "cell_type": "markdown",
   "id": "16a1fba0",
   "metadata": {},
   "source": [
    "The following cell should build the program `mc_npt`."
   ]
  },
  {
   "cell_type": "code",
   "execution_count": null,
   "id": "7893053f",
   "metadata": {},
   "outputs": [],
   "source": [
    "!make mc_npt"
   ]
  },
  {
   "cell_type": "markdown",
   "id": "ec53f33f",
   "metadata": {},
   "source": [
    "The main program file is `mc_npt.f90`.\n",
    "Open this file and take a look at it.\n",
    "The program carries out a Monte Carlo simulation for a system of $N$ atoms\n",
    "at specified temperature $T$ and pressure $P$.\n",
    "\n",
    "The basic program structure in the file `mc_npt.f90` is very similar to `mc_nvt.f90`.\n",
    "Simulation parameters are read from standard input using a namelist.\n",
    "A run consists of `nstep` steps.\n",
    "In every step, $N$ attempts are made to move individual atoms, selected randomly;\n",
    "in addition, here, there is a call to the volume-move routine. \n",
    "There are a few more variables and parameters associated with the volume moves. \n",
    "The volume $V$ is added to the datasets of variables saved step-by-step to the HDF5 file,\n",
    "which is here called `mc_npt.hdf5`.\n",
    "In this program, for simplicity, \n",
    "we do not save configurations at intervals,\n",
    "and will not be calculating $g(r)$.\n",
    "\n",
    "Start by doing a short run. \n",
    "Just in case the originally supplied configuration file `config_old.dat`\n",
    "was overwritten in the previous workshop,\n",
    "it is copied from the backup."
   ]
  },
  {
   "cell_type": "code",
   "execution_count": null,
   "id": "273c2101",
   "metadata": {},
   "outputs": [],
   "source": [
    "!cp config_old.bak config_old.dat\n",
    "!echo '&nml nstep=1000 /' | ./mc_npt"
   ]
  },
  {
   "cell_type": "markdown",
   "id": "40778bda",
   "metadata": {},
   "source": [
    "The program does not appear to be working properly: \n",
    "the volume move acceptance ratio is zero. \n",
    "The first exercise will be to fix the program \n",
    "so that it samples the constant-pressure ensemble correctly. \n",
    "\n",
    "## Fixing the program\n",
    "Examine the `v_move` subroutine in the file `mc_npt_module.f90`. \n",
    "The trial move is defined by choosing $\\Delta V$ uniformly \n",
    "within a specified range $\\pm\\Delta V_\\text{max}$. \n",
    "The volume change is stored in the variable `dv`. \n",
    "(There are various different, non-equivalent, ways of choosing $\\Delta V$,\n",
    "which may need a different acceptance formula from the one given below).\n",
    "From the new volume, we calculate the volume scaling factor `v_scale`, \n",
    "and we deduce the scaling factor `r_scale` which applies to the box lengths, \n",
    "and to the atomic coordinates.\n",
    "Hopefully, that all looks correct in the program.\n",
    "\n",
    "It is then necessary to calculate the total potential energy of the scaled system. \n",
    "The potential energy change $\\Delta U$ associated with the trial move \n",
    "is a key element of the acceptance probability.\n",
    "Referring to the lecture notes,\n",
    "this may be written $\\min [1,e^{-\\delta}]$ where\n",
    "\\begin{equation*}\n",
    " e^{-\\delta}  \\equiv  \n",
    " \\left(\\frac{V_\\text{new}}{V_\\text{old}}\\right)^N \\, \n",
    " e^{-\\beta P(V_\\text{new}-V_\\text{old})}\\,\n",
    " e^{-\\beta(U_\\text{new}-U_\\text{old})}\n",
    " =\n",
    " \\left(\\frac{V+\\Delta V}{V}\\right)^N \\, \n",
    " e^{-\\beta P\\Delta V} \\, \n",
    " e^{-\\beta \\Delta U} .\n",
    "\\end{equation*}\n",
    "Here we have written $V_\\text{old}=V$, $V_\\text{new}=V+\\Delta V$, \n",
    "with similar expressions for $U$,\n",
    "and $\\beta=1/k_{\\text{B}}T$ as usual. \n",
    "The program defines a variable `delta`, to represent the value $\\delta$ here.\n",
    "This is passed to the `metropolis` function, \n",
    "which handles the $\\min [1,e^{-\\delta}]$ part of the calculation\n",
    "and returns the accept/reject decision. \n",
    "Rearrange the above equation to give an explicit expression for $\\delta$;\n",
    "you will need to take logs of both sides.\n",
    "Compare your expression for $\\delta$, i.e. `delta`, \n",
    "with the program. \n",
    "You should see that the potential energy part is handled correctly in the statement\n",
    "\n",
    "```fortran\n",
    "delta = beta * ( u_new - u )\n",
    "```\n",
    "\n",
    "and for constant-volume MC, this is all we would need.\n",
    "However, for constant pressure, two extra terms need to be added to `delta`,\n",
    "as the above expression indicates.\n",
    "One or both of these two extra terms may be wrong in the supplied code.\n",
    "They may be easily expressed \n",
    "in terms of the variables `v_scale` and `dv`, \n",
    "as well as the number of atoms `N` and variables `beta` and `pressure`. \n",
    "Make the necessary correction(s).\n",
    "\n",
    "Once you've finished editing the `mc_npt_module.f90` file,\n",
    "and have saved it,\n",
    "continue by making the program again, and re-running in the following cells."
   ]
  },
  {
   "cell_type": "code",
   "execution_count": null,
   "id": "97d27ff0",
   "metadata": {},
   "outputs": [],
   "source": [
    "!make mc_npt"
   ]
  },
  {
   "cell_type": "code",
   "execution_count": null,
   "id": "7e8859e7",
   "metadata": {},
   "outputs": [],
   "source": [
    "!echo '&nml nstep=1000 /' | ./mc_npt"
   ]
  },
  {
   "cell_type": "markdown",
   "id": "538afb45",
   "metadata": {},
   "source": [
    "Now the volume move acceptance rate should be around 60-70%. \n",
    "If not, check your formulae, and the `v_move` routine, again.\n",
    "\n",
    "Even for such a short run, it will be worth taking a look at the output.\n",
    "Just as for the $NVT$ program,\n",
    "the next cell reads in the simulation parameters and datasets from the HDF5 output file."
   ]
  },
  {
   "cell_type": "code",
   "execution_count": null,
   "id": "72e3308a-ee49-4a26-8a22-bf9b979885f9",
   "metadata": {},
   "outputs": [],
   "source": [
    "params, data = read_file('mc_npt.hdf5')"
   ]
  },
  {
   "cell_type": "markdown",
   "id": "1a209659-f810-4217-aff1-29d4f3ade2ee",
   "metadata": {},
   "source": [
    "We give names to some of the important parameters, and print them out."
   ]
  },
  {
   "cell_type": "code",
   "execution_count": null,
   "id": "6c4dadd7-cfab-4dc3-8386-93babbee00d6",
   "metadata": {},
   "outputs": [],
   "source": [
    "print(params['Title'].astype(str))\n",
    "print('Run steps',params['nstep'])\n",
    "N = params['N']\n",
    "P = params['P']\n",
    "T = params['T']\n",
    "print(f'Number of atoms N = {N:10d}')\n",
    "print(f'Pressure        P = {P:10.4f}')\n",
    "print(f'Temperature     T = {T:10.4f}')"
   ]
  },
  {
   "cell_type": "markdown",
   "id": "e7e4bdce",
   "metadata": {},
   "source": [
    "First, look at the evolution of the density.\n",
    "We expect to see some early variation of this quantity,\n",
    "since the initial configuration (with density $\\rho=0.5$)\n",
    "was not equilibrated at $P=1.0$.\n",
    "A (very) rough estimate of the average density at this pressure \n",
    "may be obtained by discarding the early part of the simulation.\n",
    "This is done in the following cell.\n",
    "As a guide, the value of `rhoavg` should be around 0.43.\n",
    "If it is very different, once more you may need to check your formulae and the `v_move` routine again."
   ]
  },
  {
   "cell_type": "code",
   "execution_count": null,
   "id": "8cdab717",
   "metadata": {},
   "outputs": [],
   "source": [
    "rho = N/data['V']\n",
    "rhoavg = rho[200:].mean()\n",
    "print(f'Simulation average rho = {rhoavg:10.4f}')\n",
    "fig, ax = plt.subplots(figsize=(8,5))\n",
    "ax.set_xlabel('step')\n",
    "ax.set_ylabel(r'$\\rho$')\n",
    "ax.plot(rho);\n",
    "ax.axhline(rhoavg,ls='dashed',color='C1')\n",
    "plt.tight_layout()"
   ]
  },
  {
   "cell_type": "markdown",
   "id": "4597eba1",
   "metadata": {},
   "source": [
    "We can double check by calculating the value of $P$\n",
    "that would be expected at this average density\n",
    "according to the fitted EOS.\n",
    "This should be reasonably close to the simulation input value $P=1.0$."
   ]
  },
  {
   "cell_type": "code",
   "execution_count": null,
   "id": "bba1e3b8",
   "metadata": {},
   "outputs": [],
   "source": [
    "eos_fit = eos(temperature=T,density=rhoavg)\n",
    "Peos = eos_fit['P']\n",
    "print(f'Fitted EOS Pressure  P = {Peos:10.4f}')\n",
    "print(f'Specified value of   P = {P:10.4f}')"
   ]
  },
  {
   "cell_type": "markdown",
   "id": "92b399a0",
   "metadata": {},
   "source": [
    "As a last check, \n",
    "compare the average configurational temperature for this very short run\n",
    "with the simulation input value."
   ]
  },
  {
   "cell_type": "code",
   "execution_count": null,
   "id": "ad731ea4",
   "metadata": {},
   "outputs": [],
   "source": [
    "Tavg=data['T'][200:].mean()\n",
    "print(f'Simulation average T  = {Tavg:10.4f}')\n",
    "print(f'Specified value of T  = {T:10.4f}')"
   ]
  },
  {
   "cell_type": "markdown",
   "id": "17e2432c",
   "metadata": {},
   "source": [
    "If you wish,\n",
    "feel free to experiment with the simulation parameters. \n",
    "You should be able to adjust `dv_max` to increase or decrease the volume move acceptance ratio, \n",
    "and you can choose different pressures and temperatures, \n",
    "comparing with the expected equation of state. \n",
    "Remember that the runs we have done so far are very short indeed;\n",
    "for more accuracy, \n",
    "you could use the default number of steps,\n",
    "but this will take several minutes.\n",
    "\n",
    "The state point of most interest to us is the one discussed in the Monte Carlo lecture: \n",
    "$\\rho=0.5$ and $T=2.0$. \n",
    "In the lecture, you were given the corresponding value of $P$.\n",
    "Also, you measured it in the last workshop, by running `mc_nvt`.\n",
    "If neither of those values is to hand, the fitted equation of state gives an estimate."
   ]
  },
  {
   "cell_type": "code",
   "execution_count": null,
   "id": "600a267f",
   "metadata": {},
   "outputs": [],
   "source": [
    "eos_fit=eos(temperature=2.0,density=0.5)\n",
    "Peos = eos_fit['P']\n",
    "print(f'Fitted EOS Pressure P = {Peos:10.4f}')"
   ]
  },
  {
   "cell_type": "markdown",
   "id": "364de09d",
   "metadata": {},
   "source": [
    "Conduct a run with $P$ estimated from one of these sources \n",
    "(you may wish to change the numerical value in the next cell). \n",
    "The run should take approximately 10 minutes."
   ]
  },
  {
   "cell_type": "code",
   "execution_count": null,
   "id": "1f315895",
   "metadata": {},
   "outputs": [],
   "source": [
    "!echo '&nml pressure=1.3384/' | ./mc_npt"
   ]
  },
  {
   "cell_type": "markdown",
   "id": "dc571394",
   "metadata": {},
   "source": [
    "You should wait until the program finishes before proceeding.\n",
    "\n",
    "Once more, we read in the simulation results and calculate some averages,\n",
    "to confirm that all is well.\n",
    "There should be no need to discard the early part of the run,\n",
    "since the initial configuration was already equilibrated at the desired state point.\n",
    "The first check is that the average density is close to the desired value $\\rho=0.5$.\n",
    "Then we check the average (configurational) temperature and pressure against the set values,\n",
    "and the activity $z$, estimated by Widom test particle insertion (which gives $1/z$),\n",
    "compared with the fitted EOS value."
   ]
  },
  {
   "cell_type": "code",
   "execution_count": null,
   "id": "69e3487d-37e6-4396-bf31-9d54c81947b0",
   "metadata": {},
   "outputs": [],
   "source": [
    "params, data = read_file('mc_npt.hdf5')"
   ]
  },
  {
   "cell_type": "code",
   "execution_count": null,
   "id": "64cdb47c-d5c2-428c-997e-cb39c5181f12",
   "metadata": {},
   "outputs": [],
   "source": [
    "print(params['Title'].astype(str))\n",
    "print('Run steps',params['nstep'])\n",
    "N    = params['N']\n",
    "P    = params['P']\n",
    "T    = params['T']\n",
    "Vavg = data['V'].mean()\n",
    "print(f'Number of atoms       N = {N:10d}')\n",
    "print(f'Simulation average  rho = {N/Vavg:10.4f}')\n",
    "Tavg = data['T'].mean()\n",
    "print(f'Specified temperature T = {T:10.4f}')\n",
    "print(f'Simulation average    T = {Tavg:10.4f}')\n",
    "Wavg = data['W'].mean()\n",
    "Pavg = N*T/Vavg + Wavg/(3*Vavg)\n",
    "Peos = eos_fit['P']\n",
    "print(f'Specified pressure    P = {P:10.4f}')\n",
    "print(f'Simulation average    P = {Pavg:10.4f}')\n",
    "print(f'Fitted EOS pressure   P = {Peos:10.4f}')\n",
    "zavg = 1/data['Z'].mean()\n",
    "zeos = eos_fit['z']\n",
    "print(f'Simulation estimate   z = {zavg:10.4f}')\n",
    "print(f'Fitted EOS value      z = {zeos:10.4f}')"
   ]
  },
  {
   "cell_type": "markdown",
   "id": "cc6e2033",
   "metadata": {},
   "source": [
    "Hopefully the simulation averages agree reasonably well with the\n",
    "predictions of the fitted EOS and the input parameters of the simulation.\n",
    "As always, if we wanted to properly judge whether our results agree with expectations,\n",
    "we would need to estimate statistical errors on the simulation averages,\n",
    "which is not the topic for today."
   ]
  },
  {
   "cell_type": "markdown",
   "id": "641e0523",
   "metadata": {},
   "source": [
    "## Isothermal compressibility\n",
    "\n",
    "The volume fluctuations may be used to calculate the isothermal compressibility, \n",
    "which was defined in lectures\n",
    "\\begin{equation*}\n",
    " \\kappa_T = -\\frac{1}{V}\\left(\\frac{\\partial V}{\\partial P}\\right)_T = \\frac{1}{\\rho}\\left(\\frac{\\partial\\rho}{\\partial P}\\right)_T\n",
    " = \\frac{\\langle V^2\\rangle - \\langle V \\rangle^2}{k_{\\text{B}}T \\langle V\\rangle} .\n",
    "\\end{equation*}\n",
    "(The symbols $\\beta_T$ and $\\chi_T$ are also sometimes used for this same quantity,\n",
    "but $\\kappa_T$ will be used here). \n",
    "\n",
    "Referring to the last formula above,\n",
    "which was also given in lectures, \n",
    "calculate, in the following cell, the isothermal compressibility from the `data['V']` array,\n",
    "and other quantities output by the program. \n",
    "\n",
    "Compare the isothermal compressibility, calculated by this route, \n",
    "with the value given in lectures, \n",
    "and the value expected from the fitted EOS, which is already calculated in the cell."
   ]
  },
  {
   "cell_type": "code",
   "execution_count": null,
   "id": "9473d040",
   "metadata": {},
   "outputs": [],
   "source": [
    "# Insert your code here\n",
    "kavg = 0.0\n",
    "keos = eos_fit['kappa_T']\n",
    "print(f'Simulation average kappa_T = {kavg:10.4f}')\n",
    "print(f'Fitted EOS value   kappa_T = {keos:10.4f}')"
   ]
  },
  {
   "cell_type": "markdown",
   "id": "ca6c2924",
   "metadata": {},
   "source": [
    "It is also possible to calculate this thermodynamic derivative numerically, \n",
    "by measuring $\\langle \\rho\\rangle$ at two different pressures \n",
    "(one slightly higher, one slightly lower, than the desired pressure) \n",
    "in two separate runs of `mc_npt`.\n",
    "If you decide to try this,\n",
    "don't forget that an equilibration period will be needed in both cases. \n",
    "It is an interesting question to ask:\n",
    "Which method is likely more efficient, in terms of CPU time required to achieve the same statistical error: \n",
    "volume fluctuations or numerical differentiation?"
   ]
  },
  {
   "cell_type": "markdown",
   "id": "fb8b6352",
   "metadata": {},
   "source": [
    "## Volume and energy distributions\n",
    "Histograms of the potential energy $\\mathcal{P}(U)$ and volume $\\mathcal{P}(V)$ probability distributions\n",
    "are plotted next.\n",
    "We could use $\\mathcal{P}(U)$ in a reweighting scheme to estimate results at a different $T$, but the same $P$,\n",
    "as mentioned in the earlier workshop\n",
    "(and discussed in the 3rd MC lecture).\n",
    "Similarly,\n",
    "we could use $\\mathcal{P}(V)$ to estimate results at a different $P$, but the same $T$.\n",
    "If we wished to reweight our simulation results\n",
    "to obtain estimates at a different $T$ *and* $P$,\n",
    "we would need to use the *joint* distribution $\\mathcal{P}(U,V)$.\n",
    "We will not pursue this,\n",
    "but for interest's sake, we plot a 2D histogram of $\\mathcal{P}(U,V)$ below.\n",
    "This shows that $U$ and $V$ are closely correlated with each other, \n",
    "which is not really surprising."
   ]
  },
  {
   "cell_type": "code",
   "execution_count": null,
   "id": "97393c39",
   "metadata": {},
   "outputs": [],
   "source": [
    "Veos = N/eos_fit['density'] # desired average density = 0.5\n",
    "Vavg = data['V'].mean()\n",
    "Vstd = data['V'].std()\n",
    "print(f'Fitted EOS value   V = {Veos:10.4f}')\n",
    "print(f'Simulation average V = {Vavg:10.4f}')\n",
    "print(f'Standard deviation V = {Vstd:10.4f}')\n",
    "fig, ax = plt.subplots(figsize=(8,5))\n",
    "ax.set_xlabel(r'$V$')\n",
    "ax.set_ylabel(r'$\\mathcal{P}(V)$')\n",
    "ax.hist(data['V'],density=True,label='Simulation')\n",
    "ax.axvline(Veos,c='C1',label='Expected average')\n",
    "ax.legend()\n",
    "plt.tight_layout()"
   ]
  },
  {
   "cell_type": "code",
   "execution_count": null,
   "id": "2effcff4",
   "metadata": {},
   "outputs": [],
   "source": [
    "Ueos = N*eos_fit['u']\n",
    "Uavg = data['U'].mean()\n",
    "Ustd = data['U'].std()\n",
    "print(f'Fitted EOS value   U = {Ueos:10.4f}')\n",
    "print(f'Simulation average U = {Uavg:10.4f}')\n",
    "print(f'Standard deviation U = {Ustd:10.4f}')\n",
    "fig, ax = plt.subplots(figsize=(8,5))\n",
    "ax.set_xlabel(r'$U$')\n",
    "ax.set_ylabel(r'$\\mathcal{P}(U)$')\n",
    "ax.hist(data['U'],density=True,label='Simulation')\n",
    "ax.axvline(Ueos,c='C1',label='Expected average')\n",
    "ax.legend()\n",
    "plt.tight_layout()"
   ]
  },
  {
   "cell_type": "code",
   "execution_count": null,
   "id": "18f543eb",
   "metadata": {},
   "outputs": [],
   "source": [
    "fig, ax = plt.subplots(figsize=(8,5))\n",
    "ax.set_xlabel('$U$')\n",
    "ax.set_ylabel('$V$')\n",
    "ax.hist2d(data['U'],data['V'],bins=50,density=True)\n",
    "ax.axhline(Veos,c='gray')\n",
    "ax.axvline(Ueos,c='gray')\n",
    "plt.tight_layout()"
   ]
  },
  {
   "cell_type": "markdown",
   "id": "bf8ef619",
   "metadata": {},
   "source": [
    "## Constant-pressure heat capacity\n",
    "It should be possible to estimate \n",
    "the constant-pressure heat capacity per atom $c_P = C_P/N$. \n",
    "The value at this state point was given in the lecture,\n",
    "and the estimate from the fitted equation of state \n",
    "is included in the results from the `eos` function, see below.\n",
    "\n",
    "To calculate this from a constant-$NPT$ simulation,\n",
    "a formula was given in the lecture notes. It involves \"enthalpy\" fluctuations. \n",
    "\\begin{equation*}\n",
    "c_P/k_{\\text{B}} =\n",
    "C_P/N k_{\\text{B}} = \\frac{3}{2} + \\frac{\\langle H^2\\rangle - \\langle H\\rangle^2}{N(k_{\\text{B}} T)^2}\n",
    "\\end{equation*}\n",
    "Here the \"enthalpy\" is defined as $H=U+PV$ where $U$ is the total potential energy. \n",
    "\n",
    "Use this formula to calculate $c_P$ \n",
    "Remember that in our reduced units, $k_{\\text{B}}=1$.\n",
    "The numerical answer should be similar to the one given in the table in your lecture notes, \n",
    "and also similar to the value produced by `eos_lj.py`,\n",
    "which already appears in the cell below."
   ]
  },
  {
   "cell_type": "code",
   "execution_count": null,
   "id": "a821f045",
   "metadata": {},
   "outputs": [],
   "source": [
    "# Insert your code here\n",
    "cavg = 0.0\n",
    "ceos = eos_fit['c_P']\n",
    "print(f'Simulation average c_P = {cavg:10.4f}')\n",
    "print(f'Fitted EOS value   c_P = {ceos:10.4f}')"
   ]
  },
  {
   "cell_type": "markdown",
   "id": "d3e60c5d",
   "metadata": {},
   "source": [
    "There is a bit of subtlety in the above formula. \n",
    "$H$, as defined just now, is not really the enthalpy. \n",
    "It is missing the kinetic energy contribution. \n",
    "It is not the non-ideal part of the enthalpy either, \n",
    "because the $PV$ term is not zero for an ideal gas. \n",
    "In the expression for $c_P/k_B$ given in lectures, and above,\n",
    "a contribution $\\frac{3}{2}$ appears explicitly. \n",
    "The ideal gas value, of course, is $c_P/k_B=\\frac{5}{2}$,\n",
    "so the value $\\frac{3}{2}$ only represents part of the ideal gas contribution,\n",
    "due to the kinetic energy fluctuations.\n",
    "The remaining ideal gas contribution is not missing:\n",
    "it is included in the $PV$ term."
   ]
  },
  {
   "cell_type": "markdown",
   "id": "298d557a",
   "metadata": {},
   "source": [
    "This concludes the notebook."
   ]
  },
  {
   "cell_type": "code",
   "execution_count": null,
   "id": "92d8ca42",
   "metadata": {},
   "outputs": [],
   "source": []
  }
 ],
 "metadata": {
  "kernelspec": {
   "display_name": "Python 3 (ipykernel)",
   "language": "python",
   "name": "python3"
  },
  "language_info": {
   "codemirror_mode": {
    "name": "ipython",
    "version": 3
   },
   "file_extension": ".py",
   "mimetype": "text/x-python",
   "name": "python",
   "nbconvert_exporter": "python",
   "pygments_lexer": "ipython3",
   "version": "3.13.3"
  }
 },
 "nbformat": 4,
 "nbformat_minor": 5
}
