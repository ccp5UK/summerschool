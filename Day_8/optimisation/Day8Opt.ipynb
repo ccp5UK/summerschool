{
 "cells": [
  {
   "cell_type": "markdown",
   "id": "6d5acfeb",
   "metadata": {},
   "source": [
    "[![Open In Colab](https://colab.research.google.com/assets/colab-badge.svg)](https://colab.research.google.com/github/ccp5UK/summerschool/blob/main/Day_8/optimisation/Day8Opt.ipynb)\n",
    "\n",
    "$$\n",
    "\\def\\CC{\\bf C}\n",
    "\\def\\QQ{\\bf Q}\n",
    "\\def\\RR{\\bf R}\n",
    "\\def\\ZZ{\\bf Z}\n",
    "\\def\\NN{\\bf N}\n",
    "$$\n",
    "# Day 5 Force-fields, potentials and optimisation methods\n",
    "\n",
    "## Setup (optional)\n",
    "This step is needed only if you run on google colab. Instructions may work on other systems but are not tested."
   ]
  },
  {
   "cell_type": "code",
   "execution_count": null,
   "id": "c6644b1f",
   "metadata": {},
   "outputs": [],
   "source": [
    "! pip install data_tutorials ase weas_widget\n",
    "! apt install gfortran "
   ]
  },
  {
   "cell_type": "markdown",
   "id": "9ea5f6bf",
   "metadata": {},
   "source": [
    "*Now* bring the data needed for the exercises."
   ]
  },
  {
   "cell_type": "code",
   "execution_count": null,
   "id": "ccc3099e",
   "metadata": {},
   "outputs": [],
   "source": [
    "from data_tutorials.data import get_data\n",
    "get_data(\n",
    "    url=\"https://raw.githubusercontent.com/ccp5UK/summerschool/main/Day_8/optimisation/\",\n",
    "    filename=[\"bixbyite1.gin\",\"bixbyite2.gin\",\"corundum1.gin\",\"corundum2.gin\",\"rhodium1.gin\",\"rhodium2.gin\"],\n",
    "    folder=\".\",\n",
    ")\n",
    "\n",
    "get_data(\n",
    "    url=\"https://raw.githubusercontent.com/ccp5UK/summerschool/main/Day_8/optimisation/\",\n",
    "    filename=[\"tab1.png\",\"tab2.png\"],\n",
    "    folder=\".\",\n",
    ")\n",
    "\n",
    "get_data(\n",
    "    url=\"https://raw.githubusercontent.com/ccp5UK/summerschool/main/.raw/\",\n",
    "    filename=[\"gulp\"],\n",
    "    folder=\"/usr/local/bin\",\n",
    ")\n",
    "! chmod 755 /usr/local/bin/gulp"
   ]
  },
  {
   "cell_type": "markdown",
   "id": "82d70970",
   "metadata": {},
   "source": [
    "Some cells were added to allow you execute the commands needed for the tutorial. feel free to add more as needed or use the console to carry on the tasks"
   ]
  },
  {
   "cell_type": "markdown",
   "id": "c2c3f66f",
   "metadata": {
    "tags": []
   },
   "source": [
    "\n",
    "\n",
    "## Introduction\n",
    "\n",
    "As you heard in the lectures, a vital component of most simulations is\n",
    "the specification of a force-field or potential. In this exercise you\n",
    "will investigate the behaviour of two potentials for alumina, *a rigid\n",
    "ion pair potential model with fitted ionic charges and a shell model\n",
    "pair potential with full ionic charges*. Neither model is completely\n",
    "satisfactory as a model for alumina. By the end of the exercise, you\n",
    "should be able to answer two questions.\n",
    "\n",
    "> 1.  What kinds of investigation would you use each model for?\n",
    "> 2.  What further tests would you think it necessary to do for a\n",
    ">     specific problem?\n",
    "\n",
    "On the way, we shall also investigate the use of a number of\n",
    "optimisation methods. We shall use the GULP code[1] developed by Julian\n",
    "Gale and co-workers. This is a general-purpose code that, amongst other\n",
    "things, performs optimisations on lattice structures, surfaces and point\n",
    "defects. Full details of the program’s capabilities can be found in the\n",
    "GULP Manual.\n",
    "\n",
    "The pair potential $V_{ij}(r)$ takes the form\n",
    "\n",
    "$$\\begin{aligned}\n",
    "V_{ij}(r)=\n",
    "\\begin{cases}\n",
    "\\cfrac{Z_iZ_je^2}{4\\pi\\varepsilon_0r} + A_{ij}e^{-\\cfrac{r}{\\rho_{ij}}} -\\cfrac{C_{ij}}{r^6} &  r \\leq r_{cut}  \\\\ \n",
    "0 & r>r_{rcut} \\\\ \n",
    "\\end{cases}\n",
    "\\end{aligned}$$\n",
    "\n",
    "where the first term is the electrostatics term and the short-range\n",
    "Buckingham term has three fitted parameters $A_{ij}$, $\\rho_{ij}$ and\n",
    "$C_{ij}$. The rigid ion model used here has a further parameter $Z_i$.\n",
    "In the shell model used, this is fixed at +3 (Al). The shell model has\n",
    "two further parameters that describe the polarisability of the ions. The\n",
    "model comprises a massless shell (supposed to represent the outer\n",
    "electrons) of charge $Y_i$ linked to a massive core (representing the\n",
    "nucleus and inner electrons) with charge $Z_i - Y_i$ by a spring\n",
    "constant $k_i$. The polarisability of the free ion in vacuum is then\n",
    "given by $\\alpha_i=\\frac{Y_i^2e^2}{4\\pi\\varepsilon_0 k_i}$. All these\n",
    "parameters can be fixed either by using *ab initio* calculations as a\n",
    "training set or by fitting to experimental data. Details of these\n",
    "force-fields can be found in ref\n",
    "<a href=\"#Bush1994\" class=\"citation\">[Bush1994]</a> (shell model) and\n",
    "ref <a href=\"#Gale1992\" class=\"citation\">[Gale1992]</a> (rigid ion\n",
    "model).\n",
    "\n",
    "## The input file\n",
    "\n",
    "This is a complex input file since we shall perform a large number of\n",
    "calculations by commenting and un-commenting various commands. Remember\n",
    "that in GULP input files, anything that follows a \\# on a line is\n",
    "commented out. You are given six input files in all: three structures –\n",
    "corundum (trigonal), bixbyite (cubic) and rhodium oxide (orthorhombic)\n",
    "and two potentials for each structure. An example input file is shown\n",
    "below with added comments for each line."
   ]
  },
  {
   "cell_type": "markdown",
   "id": "72608a59-de77-400e-88af-64aa2b25cfab",
   "metadata": {},
   "source": [
    "```\n",
    "opti conp full # keywords to optimise structures at constant pressure\n",
    "#keyword force_minimisation # Minimise to zero force not minimum energy\n",
    "#keyword conj          # use conjugate gradients minimisation\n",
    "#keyword dfp           # use Davidon-Fletcher-Powell variable metric method\n",
    "#keyword rfo           # use rational functional optimisation\n",
    "#switch bfgs cycle 10  # switch to bgfs method after 10 cycles \n",
    "#keyword nosym         # Perform minimisation using no symmetry elements\n",
    "\n",
    "#keyword linmin    # print out details of line minimisations\n",
    "#terse potentials  # suppress details of potential\n",
    "#terse derivatives # suppress details of derivatives\n",
    "\n",
    "maxcyc 100         # maximum number of minimisation cycles\n",
    "stepmx opt 1.0   # maximum size of minimisation step\n",
    "update 10        # complete recalculation of Hessian after n cyclea\n",
    "\n",
    "#keyword phonon      # calculate phonon spectrum using details below\n",
    "#keyword free_energy # Minimise on the free energy\n",
    "#keyword zsisa       # Approximate minimisation on free energy\n",
    "\n",
    "keyword property  # Calculate bulk lattice properties\n",
    "temperature 298   # Set temperature (K) (for free energy minimisation)\n",
    "pressure    0     # Set pressure (GPa) and minimise on the enthalpy\n",
    "\n",
    "title  # Lines after this keyword give the title\n",
    "alumina corundum structure file\n",
    "Potential is Bush (1994)\n",
    "end    # End of title section\n",
    "cell   # Define unit cell of lattice on the next line\n",
    "4.7602   4.7602  12.9933  90.000000  90.000000 120.0\n",
    "frac   # Define the species in the unit cell\n",
    "Al core 0.000000   0.000000   0.352160 \n",
    "Al shel 0.000000   0.000000   0.352160 \n",
    "O  core 0.306240   0.000000   0.250000 \n",
    "O  shel 0.306240   0.000000   0.250000 \n",
    "Space  # Space group of lattice (standard ordering)\n",
    "167\n",
    "\n",
    "supercell 1 1 1  # Define a supercell of size l by n by m unit cells\n",
    "#shrink 1 1 1    # Construct grid to calculate lattice vibration entropy\n",
    "#dispersion 3 20 # Calc dispersion curve (3 directions, 20 points each)\n",
    "#0.0 0.0 0.0 to 0.5 0.0 0.0\n",
    "#0.0 0.0 0.0 to 0.5 0.5 0.0\n",
    "#0.0 0.0 0.0 to 0.5 0.5 0.5\n",
    "\n",
    "species # Define the species in the unit cell (label, charge)\n",
    "Al core  0.043\n",
    "Al shel  2.957\n",
    "O  core  0.513\n",
    "O  shel -2.513\n",
    "buckingham # Pair potential type and cutoff (see lectures for details)\n",
    "Al shel O shel  2409.505 0.2649  0.00 0.0 10.0\n",
    "O  shel O shel    25.410 0.6937 32.32 0.0 12.0\n",
    "spring # spring constants for shell model\n",
    "Al 403.98\n",
    "O   20.53\n",
    "\n",
    "#cutp 12.0 mdf 2.0  # Taper function for potential cutoff\n",
    "\n",
    "output xyz corundum1    # Outputs coordinate file for viewing\n",
    "#output phonon corundum1 # Outputs dispersion data and dos for plotting\n",
    "```"
   ]
  },
  {
   "cell_type": "markdown",
   "id": "8f618c2e",
   "metadata": {},
   "source": [
    "## The exercises\n",
    "\n",
    "The Gulp code can be run using the simple command: gulp \\<infile\n",
    "\\>outfile at the command line or incorporating it into a suitable\n",
    "jobscript. I strongly suggest that you retain the original input files\n",
    "and copy them each time you want to use them. All input files are in\n",
    "*\\~/WORKSHOP/Day_5/optimisation*\n",
    "\n",
    "1.  Run the six input files (corundum1.gin, corundum2.gin,\n",
    "    bixbyite1.gin, bixbyite2.gin, rhodium1.gin, rhodium2.gin) and\n",
    "    compare the energies per formula unit for the three structures using\n",
    "    the two potentials. *Ab initio* results\n",
    "    <a href=\"#Sarsam2013\" class=\"citation\">[Sarsam2013]</a> predict that\n",
    "    the corundum phase is the most stable, the bixbyite phase is\n",
    "    0.2eV/formula unit above that and the $Rh_2O_3$ orthorhombic phase\n",
    "    even higher in energy. The experimental hexagonal lattice parameters\n",
    "    for corundum are $a_0=4.7602A$, $c_0=12.9933$ and the fractional z\n",
    "    coordinates are 0.3522 (Al) and 0.3062 (O). Also compare the\n",
    "    calculated elastic and dielectric constants with the experimental\n",
    "    values given below (in GPa for elastic constants)"
   ]
  },
  {
   "cell_type": "code",
   "execution_count": 1,
   "id": "6813b1cc",
   "metadata": {},
   "outputs": [],
   "source": [
    "%%bash\n",
    "\n",
    "gulp < corundum1.gin > corundum1.out\n",
    "gulp < corundum2.gin > corundum2.out\n",
    "gulp < bixbyite1.gin > bixbyite1.out \n",
    "gulp < bixbyite2.gin > bixbyite2.out\n",
    "gulp < rhodium1.gin > rhodium1.out\n",
    "gulp < rhodium2.gin > rhodium2.out\n",
    "\n"
   ]
  },
  {
   "cell_type": "markdown",
   "id": "a24f2ce6",
   "metadata": {},
   "source": [
    "you can visualise the structures from each of the calculations."
   ]
  },
  {
   "cell_type": "code",
   "execution_count": 1,
   "id": "008dd3e8",
   "metadata": {},
   "outputs": [
    {
     "data": {
      "application/vnd.jupyter.widget-view+json": {
       "model_id": "da07ab3c54734d99b1562c767d06feac",
       "version_major": 2,
       "version_minor": 0
      },
      "text/plain": [
       "WeasWidget(children=(BaseWidget(atoms=[{'species': {'Al': 'Al', 'O': 'O'}, 'cell': [0.0, 0.0, 0.0, 0.0, 0.0, 0…"
      ]
     },
     "execution_count": 1,
     "metadata": {},
     "output_type": "execute_result"
    }
   ],
   "source": [
    "from ase.io import read\n",
    "from weas_widget import WeasWidget\n",
    "\n",
    "c1 = read(\"corundum1.xyz\")\n",
    "c2 = read(\"corundum2.xyz\")\n",
    "\n",
    "v=WeasWidget()\n",
    "v.from_ase([c1,c2])\n",
    "v"
   ]
  },
  {
   "cell_type": "markdown",
   "id": "f6a28490",
   "metadata": {},
   "source": [
    "inspect outputs, check each as created above"
   ]
  },
  {
   "cell_type": "markdown",
   "id": "5db05662",
   "metadata": {},
   "source": [
    "\n",
    "<figure>\n",
    "<img src=\"tab1.png\" class=\"align-center\" />\n",
    "</figure>\n",
    "\n",
    "What are your conclusions about the usefulness of these models in\n",
    "modelling ground-state properties? How about point defects, say a\n",
    "vacancy or doping the lattice with a rare earth ion? 2. There are a\n",
    "number of optimisation schemes available and all of them can be\n",
    "fine-tuned. You will have noticed that the different structures required\n",
    "different numbers of cycles to minimise under the bfgs scheme. Why do\n",
    "you think this is? Consider one of the files and investigate the effects\n",
    "of changing\n",
    "\n",
    "-   the maximum step length of the minimisation (uncomment the stepmx\n",
    "    parameter and change the number)\n",
    "-   the optimisation scheme (uncomment dfp, conj, rfo in turn). You will\n",
    "    get the most variable behaviour with rhodium1.gin and rhodium2.gin."
   ]
  },
  {
   "cell_type": "code",
   "execution_count": null,
   "id": "0398ab38",
   "metadata": {},
   "outputs": [],
   "source": [
    "%%bash\n"
   ]
  },
  {
   "cell_type": "markdown",
   "id": "67d86d77",
   "metadata": {},
   "source": [
    "\n",
    "It can be useful to change the optimisation scheme part-way through the\n",
    "calculation. Try this using the switch command.\n",
    "\n",
    "1.  The various structures cannot transform into each other because they\n",
    "    are constrained by symmetry. You can investigate this by\n",
    "    uncommenting the keyword nosym instruction and also ensuring that\n",
    "    the repeating units are all the same size by uncommenting the\n",
    "    supercell instruction and altering the integers to make the number\n",
    "    of formula units in the simulation cell the same in all the cases.\n",
    "    What is the effect of this? If the structures cannot be made to\n",
    "    transform into each other by this kind of activity that suggests\n",
    "    that each structure occupies a local minimum. Stronger evidence for\n",
    "    this can be found in the next exercise."
   ]
  },
  {
   "cell_type": "code",
   "execution_count": null,
   "id": "03944b78",
   "metadata": {},
   "outputs": [],
   "source": [
    "%%bash\n",
    "\n"
   ]
  },
  {
   "cell_type": "markdown",
   "id": "950b82b0",
   "metadata": {},
   "source": [
    "2.  The calculation of the phonon spectrum (lattice dynamical behaviour)\n",
    "    is often a sensitive test of the performance of a potential. Take\n",
    "    the corundum1.gin and corundum2.gin files and uncomment the keyword\n",
    "    phonon line and the dispersion line together with the three\n",
    "    following lines and calculate the phonon spectrum for the two\n",
    "    potentials. Can you see any negative values for the frequencies\n",
    "    (apart from the translational modes)? What does this tell you about\n",
    "    the stability of the minima in which the structures sit? Are there\n",
    "    any significant differences between the rigid ion and the shell\n",
    "    model calculations?"
   ]
  },
  {
   "cell_type": "code",
   "execution_count": null,
   "id": "c8b1715a",
   "metadata": {},
   "outputs": [],
   "source": [
    "%%bash\n",
    "\n"
   ]
  },
  {
   "cell_type": "markdown",
   "id": "68c7a255",
   "metadata": {},
   "source": [
    "3.  So far we have looked at the behaviour of the forcefield at standard\n",
    "    temperature and pressure. The next two exercises will look at the\n",
    "    temperature-dependent behaviour (using the quasi-harmonic\n",
    "    approximation). We first consider the temperature behaviour. This is\n",
    "    done using the keyword free_energy command which optimises the free\n",
    "    energy of the lattice not the configurational energy. To do this we\n",
    "    require a reasonable representation of the phonon density of states\n",
    "    to calculate the vibrational entropy. We use the shrink command to\n",
    "    do this by constructing a grid of reciprocal lattice points. First\n",
    "    ensure that the free energy is converged with respect to the grid by\n",
    "    increasing the values of the three integers until the optimised free\n",
    "    energy no longer changes significantly. Then perform calculations\n",
    "    for a range of temperatures and plot the free energy and the lattice\n",
    "    volume against temperature. The experimental data is\n",
    "    <a href=\"#Fiquet1999\" class=\"citation\">[Fiquet1999]</a>\n",
    "\n",
    "<figure>\n",
    "<img src=\"tab2.png\" class=\"align-center\" />\n",
    "</figure>\n",
    "\n",
    "-   Does it make a difference if you use the rigid ion potential in\n",
    "    corundum2.gin? What happens with the other lattices? Does using the\n",
    "    free energy rather than the configurational energy (as you did\n",
    "    before) have any effect on the relative stability of the crystal\n",
    "    structures predicted by the forcefield."
   ]
  },
  {
   "cell_type": "code",
   "execution_count": null,
   "id": "fa21504e",
   "metadata": {},
   "outputs": [],
   "source": [
    "%%bash \n"
   ]
  },
  {
   "cell_type": "markdown",
   "id": "375625f8",
   "metadata": {},
   "source": [
    "1.  Investigate the effect of pressure on the structures using the\n",
    "    pressure command and a range of pressure values (given in GPa). This\n",
    "    now causes the program to optimise with respect to the enthalpy. Is\n",
    "    there any pressure where the corundum structure becomes more stable\n",
    "    than bixbyite?\n",
    "2.  In the light of all this, what kind of simulation would you be\n",
    "    prepared to use either of the forcefields for?\n",
    "3.  Do you have any thoughts on why both forcefields fail to predict\n",
    "    that corundum is the stable structure for alumina at room\n",
    "    temperature and pressure?"
   ]
  },
  {
   "cell_type": "code",
   "execution_count": null,
   "id": "617275a4",
   "metadata": {},
   "outputs": [],
   "source": [
    "%%bash\n",
    "\n"
   ]
  },
  {
   "cell_type": "markdown",
   "id": "2b7a8e3e",
   "metadata": {},
   "source": [
    "<div id=\"citations\">\n",
    "\n",
    "<span id=\"Bush1994\" class=\"citation-label\">Bush1994</span>  \n",
    "T.S. Bush et al J. Mater Chem., 4, 831 (1994)\n",
    "\n",
    "<span id=\"Fiquet1999\" class=\"citation-label\">Fiquet1999</span>  \n",
    "1.  Fiquet et al Phys. Chem. Minerals 27 103 (1999)\n",
    "\n",
    "<span id=\"Gale1992\" class=\"citation-label\">Gale1992</span>  \n",
    "J D Gale et al Modelling Simul. Mater. Sci. Eng., 1 73 (1992)\n",
    "\n",
    "<span id=\"Sarsam2013\" class=\"citation-label\">Sarsam2013</span>  \n",
    "1.  Sarsam et al. J. Chem. Phys. 139, 204704 (2013).\n",
    "\n",
    "</div>\n",
    "\n",
    "[1] J.D. Gale, <http://gulp.curtin.edu.au/gulp/>"
   ]
  },
  {
   "cell_type": "code",
   "execution_count": null,
   "id": "4200ab87",
   "metadata": {},
   "outputs": [],
   "source": []
  }
 ],
 "metadata": {
  "kernelspec": {
   "display_name": "janus",
   "language": "python",
   "name": "python3"
  },
  "language_info": {
   "codemirror_mode": {
    "name": "ipython",
    "version": 3
   },
   "file_extension": ".py",
   "mimetype": "text/x-python",
   "name": "python",
   "nbconvert_exporter": "python",
   "pygments_lexer": "ipython3",
   "version": "3.12.4"
  }
 },
 "nbformat": 4,
 "nbformat_minor": 5
}
